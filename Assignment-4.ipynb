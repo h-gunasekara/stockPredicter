{
 "cells": [
  {
   "cell_type": "markdown",
   "metadata": {
    "deletable": false,
    "editable": false,
    "nbgrader": {
     "checksum": "9bb5135b5015776cf6fc5850611b1f0e",
     "grade": false,
     "grade_id": "cell-f59ba02a0d0bd641",
     "locked": true,
     "schema_version": 1,
     "solution": false
    }
   },
   "source": [
    "## FNCE30012: Foundations of Fintech - Assignment 4\n",
    "This assignment builds on Lectures 7 to 9 and on Tutorials 6 and 7. You might want to consider using some of the Python code discussed in those lectures and tutorials to answer some of the questions below.\n",
    "\n",
    "**Important:** It is important that you *do not* change the type (markdwon vs. code) of any cell, *nor* copy/paste/duplicate any cell! If the cell type is markdown, you are supposed to write text, not code, and vice versa. Provide your answer to each question in the allocated cell. *Do not* create additional cells. Answers provided in any other cell will **not** be marked. *Do not* rename the assignment files. All files should be left as is in the assignment directory.\n",
    "\n",
    "### Task\n",
    "You are given two datasets:\n",
    "1. A file called `Assignment4-data.csv`, that contains financial news (headlines) and daily returns for Apple (AAPL). Relying on this dataset, your role as a FinTech student is to explore the relationship between financial news and stock returns.  \n",
    "  \n",
    "  \n",
    "2. A file called `AAPL_returns.csv`, that contains the daily returns for Apple (AAPL).\n",
    "\n",
    "#### Helpful commands\n",
    "You may find the following commands helpful to complete some of the questions.\n",
    "1. How to create a new column using data from existing column? Recall that, in Tutorial 7, we worked with a variable called `FSscore`. Suppose we wanted to divide all the values of this variable by `100` and store the outcome in a new column. This can be done in one step. The code `df['FSscore_scaled'] = df['FSscore']/100` creates a new column with the name `FSscore_scaled` and stores the modified values.\n",
    "  \n",
    " \n",
    "2. How to separate a string variable into a list of strings? The method `split()` splits a string into a list based on a specified separator. The default separator is any white space. However, one can specify the applied separator as an argument. For example, the code `\"a,b,c\".split(\",\")` splits the string `\"a,b,c\"` into the list `[a, b, c]`.  \n",
    "  \n",
    "\n",
    "3. You can use string functions such as `split()` on a `Pandas` dataframe column by using the `str` attribute. For example, `df['alphabets'].str.split(\",\")` returns a series (consider a series as a dataframe with one column) that contains a list obtained by running the split function on each entry in the column named `alphabets`.  \n",
    "  \n",
    "\n",
    "4. How to chain multiple string operations in `Pandas`? Note that a string function on a `Pandas` column returns a series. One can then use another string function on this series to chain multiple operations. For example, the cell below first converts the string to upper case and then calls the split function.  \n",
    "  \n",
    "\n",
    "5. How to combine two or more data frames? For this purpose, one can use the `concat` function from `Pandas`. To combine the dataframes to match indices you can use the `axis=1` argument. Please see https://pandas.pydata.org/pandas-docs/stable/user_guide/merging.html for examples.  \n",
    "  \n",
    "  "
   ]
  },
  {
   "cell_type": "markdown",
   "metadata": {
    "deletable": false,
    "editable": false,
    "nbgrader": {
     "checksum": "b252745e0f9a22d6ca69738c0eebf3a1",
     "grade": false,
     "grade_id": "cell-6f2212a555a80d07",
     "locked": true,
     "schema_version": 1,
     "solution": false
    }
   },
   "source": [
    "Please run the following cell to import the required libraries and for string operations example."
   ]
  },
  {
   "cell_type": "code",
   "execution_count": 1,
   "metadata": {
    "deletable": false,
    "editable": false,
    "nbgrader": {
     "checksum": "afca31440bb169e5f651e76e0be4e9a6",
     "grade": false,
     "grade_id": "cell-942156ee2deb1e8a",
     "locked": true,
     "schema_version": 1,
     "solution": false
    }
   },
   "outputs": [
    {
     "data": {
      "text/plain": [
       "0    [A, B, C]\n",
       "1    [D, E, F]\n",
       "2    [A, Z, X]\n",
       "3    [A, S, P]\n",
       "Name: alphabets, dtype: object"
      ]
     },
     "execution_count": 1,
     "metadata": {},
     "output_type": "execute_result"
    }
   ],
   "source": [
    "## Execute this cell\n",
    "\n",
    "####################### Package Setup ##########################\n",
    "\n",
    "# Disable FutureWarning for better aesthetics.\n",
    "import warnings\n",
    "warnings.simplefilter(action='ignore', category=FutureWarning)\n",
    "\n",
    "# essential libraries for this assignment\n",
    "from finml import *\n",
    "import numpy as np\n",
    "import pandas as pd\n",
    "%matplotlib inline\n",
    "\n",
    "# for logistic regression\n",
    "from sklearn.linear_model import LogisticRegression\n",
    "from sklearn.metrics import precision_score\n",
    "from sklearn.metrics import recall_score\n",
    "\n",
    "# suppress warnings for deprecated methods from TensorFlow\n",
    "import tensorflow as tf\n",
    "tf.compat.v1.logging.set_verbosity(tf.compat.v1.logging.ERROR)\n",
    "\n",
    "################################################################\n",
    "\n",
    "# Example of string operations\n",
    "import pandas as pd\n",
    "example_data = {'alphabets':['a,b,c', 'd,e,f', 'a,z,x', 'a,s,p']} \n",
    "example_df = pd.DataFrame(example_data) \n",
    "\n",
    "# Chain two string operations\n",
    "example_df['alphabets'].str.upper().str.split(\",\")"
   ]
  },
  {
   "cell_type": "markdown",
   "metadata": {
    "deletable": false,
    "editable": false,
    "nbgrader": {
     "checksum": "ee72d3c9d34c0d6c1fe4cf5695821746",
     "grade": false,
     "grade_id": "cell-3a03cc8def1a7770",
     "locked": true,
     "schema_version": 1,
     "solution": false
    }
   },
   "source": [
    "### Data exploration and transformation\n",
    "The dataset has the following three columns:\n",
    "1. date: This column contains the date of the observation.  \n",
    "  \n",
    "  \n",
    "2. headlines: This column contains the concatenation of headlines for that date. The headlines are separated by the `<end>` string. For example, if there are three headlines `h1`, `h2`, and `h3` on a given day, the headline cell for that day will be the string `h1<end>h2<end>h3`.  \n",
    "  \n",
    "  \n",
    "3. returns: This column contains the daily returns.\n",
    "\n",
    "In your assessment, please address the following questions."
   ]
  },
  {
   "cell_type": "markdown",
   "metadata": {
    "deletable": false,
    "editable": false,
    "nbgrader": {
     "checksum": "bce3584807460fe02c3c3af61853a717",
     "grade": false,
     "grade_id": "cell-567fabf3a843133b",
     "locked": true,
     "schema_version": 1,
     "solution": false
    }
   },
   "source": [
    "### Question 1 (1.5 marks)\n",
    "Load the dataset in a `Pandas` dataframe and write a Python code that plots the time series of the daily Apple returns (returns on the y-axis and dates on the x-axis). Make sure your plot's axes are appropriately labelled.\n",
    "\n",
    "**Note:** Please use `df` as the variable name for the dataframe and the `parse_dates` argument to correctly parse the date column."
   ]
  },
  {
   "cell_type": "markdown",
   "metadata": {
    "deletable": false,
    "editable": false,
    "nbgrader": {
     "checksum": "cdc4b37107eeec8e4c0583df1f79fac3",
     "grade": false,
     "grade_id": "cell-d18d600f2333c8b2",
     "locked": true,
     "schema_version": 1,
     "solution": false
    }
   },
   "source": [
    "### Answer 1"
   ]
  },
  {
   "cell_type": "code",
   "execution_count": 47,
   "metadata": {
    "deletable": false,
    "nbgrader": {
     "checksum": "5840320a60b9fe27979bee89b1e0e784",
     "grade": true,
     "grade_id": "cell-1596aee326837de6",
     "locked": false,
     "points": 1.5,
     "schema_version": 1,
     "solution": true
    }
   },
   "outputs": [
    {
     "data": {
      "image/png": "[encoded data removed]",
      "text/plain": [
       "<Figure size 1440x360 with 1 Axes>"
      ]
     },
     "metadata": {
      "needs_background": "light"
     },
     "output_type": "display_data"
    }
   ],
   "source": [
    "from matplotlib import pyplot as plt\n",
    "\n",
    "\n",
    "df = pd.read_csv('AAPL_returns.csv', parse_dates=[0]) \n",
    "plt.figure(figsize=(20,5))\n",
    "plt.bar(x=df['date'], height=df['RET'])\n",
    "plt.xlabel(\"Dates\")\n",
    "plt.ylabel(\"Daily Returns\")\n",
    "plt.title(\"Apple Returns\")\n",
    "plt.legend(['Returns'], fontsize=12)\n",
    "\n",
    "plt.show()"
   ]
  },
  {
   "cell_type": "markdown",
   "metadata": {
    "deletable": false,
    "editable": false,
    "nbgrader": {
     "checksum": "cff016563639489261b12368ff3995fe",
     "grade": false,
     "grade_id": "cell-988970cdca1ca8e5",
     "locked": true,
     "schema_version": 1,
     "solution": false
    }
   },
   "source": [
    "### Question 2 (1.5 marks)\n",
    "Write a Python code that plots the time series of daily headline frequencies (the number of headlines per day on the y-axis and the corresponding date on the x-axis). Make sure your plot's axes are appropriately labelled."
   ]
  },
  {
   "cell_type": "markdown",
   "metadata": {
    "deletable": false,
    "editable": false,
    "nbgrader": {
     "checksum": "8ae188c55f14e6ed271a0cffb9c8c534",
     "grade": false,
     "grade_id": "cell-d8aca8823cca6a3f",
     "locked": true,
     "schema_version": 1,
     "solution": false
    }
   },
   "source": [
    "### Answer 2"
   ]
  },
  {
   "cell_type": "code",
   "execution_count": 48,
   "metadata": {
    "deletable": false,
    "nbgrader": {
     "checksum": "10365f318373a27376498b88183b4933",
     "grade": true,
     "grade_id": "cell-48de7de1402bf96c",
     "locked": false,
     "points": 1.5,
     "schema_version": 1,
     "solution": true
    }
   },
   "outputs": [
    {
     "data": {
      "image/png": "[encoded data removed]",
      "text/plain": [
       "<Figure size 1440x360 with 1 Axes>"
      ]
     },
     "metadata": {
      "needs_background": "light"
     },
     "output_type": "display_data"
    }
   ],
   "source": [
    "from matplotlib import pyplot as plt\n",
    "\n",
    "\n",
    "df = pd.read_csv('Assignment4-data.csv', parse_dates=[1]) \n",
    "df['headline_freq'] = df['headlines'].str.split(\"<end>\").str.len()\n",
    "\n",
    "\n",
    "plt.figure(figsize=(20,5))\n",
    "plt.bar(x=df['date'], height=df['headline_freq'])\n",
    "plt.xlabel(\"Dates\")\n",
    "plt.ylabel(\"Frequency\")\n",
    "plt.title(\"Frequency of Headlines\")\n",
    "plt.legend(['Frequency of Headlines'], fontsize=12)\n",
    "plt.show()"
   ]
  },
  {
   "cell_type": "markdown",
   "metadata": {
    "deletable": false,
    "editable": false,
    "nbgrader": {
     "checksum": "a7db3127b791b3dc9cea9d3d4ab061d2",
     "grade": false,
     "grade_id": "cell-2429642f3fe9eb3f",
     "locked": true,
     "schema_version": 1,
     "solution": false
    }
   },
   "source": [
    "### Question 3 (2 marks)\n",
    "We will use neural networks to explore the relationship between the content of financial news and the direction of stock returns, i.e., their classification into positive or negative returns.\n",
    "\n",
    "1. Create a new column called `returns_direction` in the dataframe that classifies daily returns based on their direction: it assigns a given return a value of 1, if the return is positive (i.e, greater than 0), and a value of 0 otherwise. You may find the Numpy function `where()` useful for this question.\n",
    "\n",
    "2. Count the number of days on which the stock had positive and non-positive returns, respectively."
   ]
  },
  {
   "cell_type": "markdown",
   "metadata": {
    "deletable": false,
    "editable": false,
    "nbgrader": {
     "checksum": "c9f5f8a98b573844a2cd412d71b2f32d",
     "grade": false,
     "grade_id": "cell-e4552696a02b9b72",
     "locked": true,
     "schema_version": 1,
     "solution": false
    }
   },
   "source": [
    "### Answer 3"
   ]
  },
  {
   "cell_type": "code",
   "execution_count": 49,
   "metadata": {
    "deletable": false,
    "nbgrader": {
     "checksum": "d01081efe2f35245011a98608a829a3a",
     "grade": true,
     "grade_id": "cell-48f32fe35d810de4",
     "locked": false,
     "points": 2,
     "schema_version": 1,
     "solution": true
    }
   },
   "outputs": [
    {
     "name": "stdout",
     "output_type": "stream",
     "text": [
      "The number of days with positive days: 1349 \n",
      "The number of days with non-positive days: 1221 \n"
     ]
    }
   ],
   "source": [
    "df = pd.read_csv('Assignment4-data.csv')\n",
    "\n",
    "# Creates return_direction column \n",
    "df[\"returns_direction\"] = np.where(df[\"returns\"]>0, 1, 0)\n",
    "\n",
    "# Counts the number of days the stock had positive and non-positive returns\n",
    "num_days_return = df['returns_direction'].value_counts()\n",
    "# 1 means positive\n",
    "# 0 means non-positive\n",
    "print(\"The number of days with positive days: {} \".format(num_days_return[1]))\n",
    "print(\"The number of days with non-positive days: {} \".format(num_days_return[0]))"
   ]
  },
  {
   "cell_type": "markdown",
   "metadata": {
    "deletable": false,
    "editable": false,
    "nbgrader": {
     "checksum": "f24bf915ba157fc8e2d35768b7391996",
     "grade": false,
     "grade_id": "cell-e89736a299f0e319",
     "locked": true,
     "schema_version": 1,
     "solution": false
    }
   },
   "source": [
    "### Question 4 (3 marks)\n",
    "For this question please restrict your computations to the first 100 headline dates. You can select them by using the `head` function of `Pandas`. Calculate the tf-idf metric for the following word and headline(s) pairs:\n",
    "1. Word \"apple\" in headlines with date 2008-01-07. Store this value in a variable called `aaple_tfidf`.\n",
    "2. Word \"samsung\" in headlines with date 2008-01-17. Store this value in a variable called `samsung_tfidf`.\n",
    "3. Word \"market\" for news headlines with dates 2008-03-06. Store this value in a variable called `market_tfidf`.\n",
    "\n",
    "Please write a Python code that calculates the metrics from the `df` dataframe."
   ]
  },
  {
   "cell_type": "markdown",
   "metadata": {
    "deletable": false,
    "editable": false,
    "nbgrader": {
     "checksum": "6113a33eaeab8f443a0a56943615280c",
     "grade": false,
     "grade_id": "cell-3452037452448333",
     "locked": true,
     "schema_version": 1,
     "solution": false
    }
   },
   "source": [
    "### Answer 4"
   ]
  },
  {
   "cell_type": "code",
   "execution_count": 56,
   "metadata": {
    "deletable": false,
    "nbgrader": {
     "checksum": "2b2013306d0415f56ab2111a522903db",
     "grade": true,
     "grade_id": "cell-8434cb12808907a7",
     "locked": false,
     "points": 3,
     "schema_version": 1,
     "solution": true
    }
   },
   "outputs": [
    {
     "name": "stdout",
     "output_type": "stream",
     "text": [
      "NOTE: the following tf-idf scores are with a small amount of data cleaning (removing punctuation from words)\n",
      "The apple tf-idf is: 1.0216512475319814\n",
      "The samsung tf-idf is: 0.0\n",
      "The market tf-idf is: 2.5257286443082556\n"
     ]
    }
   ],
   "source": [
    "import string\n",
    "\n",
    "df = pd.read_csv('Assignment4-data.csv')\n",
    "df = df.head(n=100)\n",
    "\n",
    "\n",
    "#a loop that separates (or splits) each word in the document from one another, creating a list of all words\n",
    "raw_document_words = [doc.split() for doc in df['headlines']]\n",
    "\n",
    "document_words = []\n",
    "for word_list in raw_document_words:\n",
    "    temp_list = []\n",
    "    for word in word_list:\n",
    "        temp_list.append(word.translate(str.maketrans('', '', string.punctuation)))\n",
    "    document_words.append(temp_list)\n",
    "    \n",
    "#turn our list into a sorted array (alphabetical order) which is a set (i.e. no duplicate words)\n",
    "vocab = sorted(set(sum(document_words, [])))\n",
    "#create a dictionary that takes each word as a key and their alphabetical order as a value\n",
    "vocab_dict = {k: i + 1 for i, k in enumerate(vocab)}\n",
    "#create a mxn TF matrix and initialise it with zeros. mxn because we have m (100) headlines and n words in our vocab\n",
    "tf = np.zeros((len(df['headlines']), len(vocab)), dtype=int)\n",
    "#for each word in our list of words\n",
    "for i, doc in enumerate(document_words):\n",
    "    for word in doc:\n",
    "        if word == 'apple' or word == 'samsung' or word == 'market':\n",
    "            tf[i, vocab_dict[word] - 1] += 1\n",
    "\n",
    "\n",
    "idf = np.log(tf.shape[0]/tf.astype(bool).sum(axis=0))\n",
    "\n",
    "tf_idf = tf * idf\n",
    "\n",
    "for i in range(len(df)):\n",
    "    if df.iloc[i].date == '2008-01-07':\n",
    "        aaple_tfidf = tf_idf[i][vocab_dict['apple'] - 1]\n",
    "    if df.iloc[i].date == '2008-01-17':\n",
    "        samsung_tfidf = tf_idf[i][vocab_dict['samsung'] - 1]\n",
    "    if df.iloc[i].date == '2008-03-06':\n",
    "        market_tfidf = tf_idf[i][vocab_dict['market'] - 1]\n",
    "\n",
    "\n",
    "\n",
    "print(\"NOTE: the following tf-idf scores are with a small amount of data cleaning (removing punctuation from words)\")\n",
    "print(\"The apple tf-idf is: {}\".format(aaple_tfidf))\n",
    "print(\"The samsung tf-idf is: {}\".format(samsung_tfidf))\n",
    "print(\"The market tf-idf is: {}\".format(market_tfidf))\n"
   ]
  },
  {
   "cell_type": "markdown",
   "metadata": {
    "deletable": false,
    "editable": false,
    "nbgrader": {
     "checksum": "a85592ef4b1179b674364f341b12f3a6",
     "grade": false,
     "grade_id": "cell-61c8d589a5d409a0",
     "locked": true,
     "schema_version": 1,
     "solution": false
    }
   },
   "source": [
    "### Question 5 (3 marks)\n",
    "Build and train a **one**-layer neural network with two units (neurons) to explain return directions based on financial news. Report and interpret the following three performance measures: \"Precision\", \"Recall\", and \"Accuracy\". According to your opinion, which performance measure(s) is (are) most important in the context of linking news headlines to stock returns and why?"
   ]
  },
  {
   "cell_type": "markdown",
   "metadata": {
    "deletable": false,
    "editable": false,
    "nbgrader": {
     "checksum": "7d6018d9470a313f05acc27f2aa9f8a2",
     "grade": false,
     "grade_id": "cell-6dbcd250786a27d0",
     "locked": true,
     "schema_version": 1,
     "solution": false
    }
   },
   "source": [
    "### Answer 5 - Code"
   ]
  },
  {
   "cell_type": "code",
   "execution_count": 51,
   "metadata": {
    "deletable": false,
    "nbgrader": {
     "checksum": "7f775f15b5006c654be27585a15528e7",
     "grade": true,
     "grade_id": "cell-bb09a8eadfc0b18a",
     "locked": false,
     "points": 2,
     "schema_version": 1,
     "solution": true
    }
   },
   "outputs": [
    {
     "name": "stdout",
     "output_type": "stream",
     "text": [
      "Train on 1542 samples, validate on 1028 samples\n",
      "Epoch 1/1000\n",
      "1542/1542 - 1s - loss: 0.6931 - acc: 0.5097 - val_loss: 0.6930 - val_acc: 0.5224\n",
      "Epoch 2/1000\n",
      "1542/1542 - 1s - loss: 0.6924 - acc: 0.5266 - val_loss: 0.6930 - val_acc: 0.5224\n",
      "Epoch 3/1000\n",
      "1542/1542 - 1s - loss: 0.6917 - acc: 0.5266 - val_loss: 0.6929 - val_acc: 0.5224\n",
      "Epoch 4/1000\n",
      "1542/1542 - 1s - loss: 0.6909 - acc: 0.5266 - val_loss: 0.6929 - val_acc: 0.5224\n",
      "Epoch 5/1000\n",
      "1542/1542 - 1s - loss: 0.6901 - acc: 0.5266 - val_loss: 0.6928 - val_acc: 0.5224\n",
      "Epoch 6/1000\n",
      "1542/1542 - 1s - loss: 0.6892 - acc: 0.5266 - val_loss: 0.6928 - val_acc: 0.5224\n",
      "Epoch 7/1000\n",
      "1542/1542 - 1s - loss: 0.6883 - acc: 0.5266 - val_loss: 0.6927 - val_acc: 0.5224\n",
      "Epoch 8/1000\n",
      "1542/1542 - 1s - loss: 0.6874 - acc: 0.5266 - val_loss: 0.6927 - val_acc: 0.5224\n",
      "Epoch 9/1000\n",
      "1542/1542 - 1s - loss: 0.6865 - acc: 0.5266 - val_loss: 0.6926 - val_acc: 0.5224\n",
      "Epoch 10/1000\n",
      "1542/1542 - 1s - loss: 0.6855 - acc: 0.5266 - val_loss: 0.6926 - val_acc: 0.5224\n",
      "Epoch 11/1000\n",
      "1542/1542 - 1s - loss: 0.6846 - acc: 0.5266 - val_loss: 0.6925 - val_acc: 0.5224\n",
      "Epoch 12/1000\n",
      "1542/1542 - 1s - loss: 0.6836 - acc: 0.5266 - val_loss: 0.6925 - val_acc: 0.5224\n",
      "Epoch 13/1000\n",
      "1542/1542 - 1s - loss: 0.6826 - acc: 0.5266 - val_loss: 0.6924 - val_acc: 0.5224\n",
      "Epoch 14/1000\n",
      "1542/1542 - 1s - loss: 0.6817 - acc: 0.5266 - val_loss: 0.6924 - val_acc: 0.5224\n",
      "Epoch 15/1000\n",
      "1542/1542 - 1s - loss: 0.6807 - acc: 0.5266 - val_loss: 0.6924 - val_acc: 0.5224\n",
      "Epoch 16/1000\n",
      "1542/1542 - 1s - loss: 0.6797 - acc: 0.5266 - val_loss: 0.6923 - val_acc: 0.5224\n",
      "Epoch 17/1000\n",
      "1542/1542 - 1s - loss: 0.6787 - acc: 0.5266 - val_loss: 0.6923 - val_acc: 0.5224\n",
      "Epoch 18/1000\n",
      "1542/1542 - 1s - loss: 0.6777 - acc: 0.5266 - val_loss: 0.6923 - val_acc: 0.5224\n",
      "Epoch 19/1000\n",
      "1542/1542 - 1s - loss: 0.6767 - acc: 0.5266 - val_loss: 0.6923 - val_acc: 0.5224\n",
      "Epoch 20/1000\n",
      "1542/1542 - 1s - loss: 0.6757 - acc: 0.5266 - val_loss: 0.6922 - val_acc: 0.5224\n",
      "Epoch 21/1000\n",
      "1542/1542 - 1s - loss: 0.6747 - acc: 0.5266 - val_loss: 0.6922 - val_acc: 0.5224\n",
      "Epoch 22/1000\n",
      "1542/1542 - 1s - loss: 0.6737 - acc: 0.5266 - val_loss: 0.6922 - val_acc: 0.5224\n",
      "Epoch 23/1000\n",
      "1542/1542 - 1s - loss: 0.6727 - acc: 0.5266 - val_loss: 0.6922 - val_acc: 0.5224\n",
      "Epoch 24/1000\n",
      "1542/1542 - 1s - loss: 0.6717 - acc: 0.5266 - val_loss: 0.6922 - val_acc: 0.5224\n",
      "Epoch 25/1000\n",
      "1542/1542 - 1s - loss: 0.6707 - acc: 0.5266 - val_loss: 0.6922 - val_acc: 0.5224\n",
      "Epoch 26/1000\n",
      "1542/1542 - 1s - loss: 0.6697 - acc: 0.5266 - val_loss: 0.6922 - val_acc: 0.5224\n",
      "Epoch 27/1000\n",
      "1542/1542 - 1s - loss: 0.6687 - acc: 0.5266 - val_loss: 0.6922 - val_acc: 0.5224\n",
      "Epoch 28/1000\n",
      "1542/1542 - 1s - loss: 0.6676 - acc: 0.5266 - val_loss: 0.6922 - val_acc: 0.5224\n",
      "Epoch 29/1000\n",
      "1542/1542 - 1s - loss: 0.6666 - acc: 0.5266 - val_loss: 0.6922 - val_acc: 0.5224\n",
      "Epoch 30/1000\n",
      "1542/1542 - 1s - loss: 0.6656 - acc: 0.5266 - val_loss: 0.6922 - val_acc: 0.5224\n",
      "Training Completed\n",
      "########################################\n",
      "############## Test Set: ###############\n",
      "########################################\n",
      "Precision:  0.5223735408560312\n",
      "Recall:  1.0\n",
      "Accuracy Score:  0.5223735408560312\n",
      "\n",
      "########################################\n",
      "############## Train Set: ##############\n",
      "########################################\n",
      "Precision:  0.5265888456549935\n",
      "Recall:  1.0\n",
      "Accuracy Score:  0.5265888456549935\n"
     ]
    }
   ],
   "source": [
    "df = pd.read_csv('Assignment4-data.csv')\n",
    "\n",
    "# Creates return_direction column \n",
    "df[\"returns_direction\"] = np.where(df[\"returns\"]>0, 1, 0)\n",
    "\n",
    "X_headlines = df.headlines.values\n",
    "y = df.returns_direction\n",
    "data = split_by_threshold(X_headlines, y, test_size=0.4,)\n",
    "(train_texts, y_train, test_texts, y_test) = data\n",
    "(X_train, X_test, vectorizer, k_best_selector) = ngram_vectorize(data,)\n",
    "\n",
    "\n",
    "data = (X_train, y_train, X_test, y_test)\n",
    "model = build_model(X_train.shape[1:], layers=1, units=2);\n",
    "model = train_model(data, model)\n",
    "evaluate(model, data)\n",
    "\n"
   ]
  },
  {
   "cell_type": "markdown",
   "metadata": {
    "deletable": false,
    "editable": false,
    "nbgrader": {
     "checksum": "ef43a24a8f2f747faef42ab2ed3381ba",
     "grade": false,
     "grade_id": "cell-f5d31002b5e9a789",
     "locked": true,
     "schema_version": 1,
     "solution": false
    }
   },
   "source": [
    "### Answer 5 - Text"
   ]
  },
  {
   "cell_type": "markdown",
   "metadata": {
    "deletable": false,
    "nbgrader": {
     "checksum": "3b971104e47c4bff267bed2caba45321",
     "grade": true,
     "grade_id": "cell-2a4a888a1e71ac61",
     "locked": false,
     "points": 1,
     "schema_version": 1,
     "solution": true
    }
   },
   "source": [
    "Precision is for all the times True is classified by the model, how often is it genuinely True. \n",
    "Precision = True Positives / (True Positives + False Positives)\n",
    "This is the proportion of all the times the model classified the price going up, how often was it correct.\n",
    "\n",
    "Recall is for all the times the correct classification was True how often did the model classify it correctly.\n",
    "Recall = True Positives / (True Positives + False Negatives)\n",
    "This is the proportion of all the times the price went up how often did the model classify it correctly.\n",
    "\n",
    "Accuracy is how many times the model made a correct classification. \n",
    "Accuracy = (True Positives + True Negatives) / Total\n",
    "This is the proportion of times the model predicted the price going up or not.\n",
    "\n",
    "\n",
    "Since the recall is 1.0 and the precision and accuracy are the same, we can deduce that the model always says that the price is going up. The model is classifying the class which is most common (True, which occurs 52.23% of the time). This is likely due to the one layer, two-unit neural network not understanding the complexity of the dataset and simply classifing all classifications as True. This is a very bad model.\n",
    "\n",
    "\n",
    "Assuming that you are only making buy orders (likely to be the case since the interesting class is stock price going up):   \n",
    "Of these three performance measures, the most important evaluation metric for linking news headlines to stock returns is Precision. This is because the cost of false positives is high. An investor would not want a model that incorrectly classifies the stock price going up when it goes down/doesn't change in reality. If you have a high precision that means when you are predicting positive returns, there is a high probability you are correct. An investor would prefer a model that predicts True with high certainty even though it may mean missing out on potential gains (recall), if the model can guarantee price rises then that is enough.\n",
    "An investor would not want to rely on an algorithm that classifies rises incorrectly.\n",
    "\n",
    "\n",
    "<b>“The stock market is a no-called-strike game. You don’t have to swing at everything – you can wait for your pitch.\" - Warren Buffet</b>\n",
    "\n",
    "\n",
    "\n",
    "  | Set | Precision  | Recall | Accuracy |\n",
    "| --------- | -----:| -----:| -----:|\n",
    "| Test | 0.5223735408560312 | 1.0 | 0.5223735408560312 |"
   ]
  },
  {
   "cell_type": "markdown",
   "metadata": {
    "deletable": false,
    "editable": false,
    "nbgrader": {
     "checksum": "dfac2b98065b891abcd127e360f6d397",
     "grade": false,
     "grade_id": "cell-7f2d6bb9c9a92323",
     "locked": true,
     "schema_version": 1,
     "solution": false
    }
   },
   "source": [
    "### Question 6 (3 marks)\n",
    "Explore different neural network models by changing the number of layers and units. You can use up to three layers and five units. \n",
    "\n",
    "Complete the table below by adding your results for the **test** data set. You should duplicate the table format in your own markdown cell and replace the \"-\" placeholders with the corresponding values. Discuss your findings for both the test and train data sets.\n",
    "\n",
    "| Num. Layers  | Num. Units           | Precision  | Recall | Accuracy |\n",
    "| --------- |:---------:| -----:| -----:| -----:|\n",
    "| 1 | 1 | - | - | - |\n",
    "| 2 | 3 | - | - | - |\n",
    "| 3 | 5 | - | - | - |"
   ]
  },
  {
   "cell_type": "markdown",
   "metadata": {
    "deletable": false,
    "editable": false,
    "nbgrader": {
     "checksum": "3e767261ae73513cb37e0a7eed1561c9",
     "grade": false,
     "grade_id": "cell-95a1ba66d6df7be1",
     "locked": true,
     "schema_version": 1,
     "solution": false
    }
   },
   "source": [
    "### Answer 6 - Code"
   ]
  },
  {
   "cell_type": "code",
   "execution_count": 52,
   "metadata": {
    "deletable": false,
    "nbgrader": {
     "checksum": "616c0ab8ee97656e0a57ac0479b5a47d",
     "grade": true,
     "grade_id": "cell-5490f30531e4cdab",
     "locked": false,
     "points": 1,
     "schema_version": 1,
     "solution": true
    }
   },
   "outputs": [
    {
     "name": "stdout",
     "output_type": "stream",
     "text": [
      "Train on 1542 samples, validate on 1028 samples\n",
      "Epoch 1/1000\n",
      "1542/1542 - 1s - loss: 0.6931 - acc: 0.4987 - val_loss: 0.6930 - val_acc: 0.5224\n",
      "Epoch 2/1000\n",
      "1542/1542 - 1s - loss: 0.6926 - acc: 0.5266 - val_loss: 0.6930 - val_acc: 0.5224\n",
      "Epoch 3/1000\n",
      "1542/1542 - 1s - loss: 0.6920 - acc: 0.5266 - val_loss: 0.6929 - val_acc: 0.5224\n",
      "Epoch 4/1000\n",
      "1542/1542 - 1s - loss: 0.6915 - acc: 0.5266 - val_loss: 0.6929 - val_acc: 0.5224\n",
      "Epoch 5/1000\n",
      "1542/1542 - 1s - loss: 0.6909 - acc: 0.5266 - val_loss: 0.6928 - val_acc: 0.5224\n",
      "Epoch 6/1000\n",
      "1542/1542 - 1s - loss: 0.6902 - acc: 0.5266 - val_loss: 0.6928 - val_acc: 0.5224\n",
      "Epoch 7/1000\n",
      "1542/1542 - 1s - loss: 0.6896 - acc: 0.5266 - val_loss: 0.6927 - val_acc: 0.5224\n",
      "Epoch 8/1000\n",
      "1542/1542 - 1s - loss: 0.6889 - acc: 0.5266 - val_loss: 0.6926 - val_acc: 0.5224\n",
      "Epoch 9/1000\n",
      "1542/1542 - 1s - loss: 0.6883 - acc: 0.5266 - val_loss: 0.6926 - val_acc: 0.5224\n",
      "Epoch 10/1000\n",
      "1542/1542 - 1s - loss: 0.6876 - acc: 0.5266 - val_loss: 0.6925 - val_acc: 0.5224\n",
      "Epoch 11/1000\n",
      "1542/1542 - 1s - loss: 0.6869 - acc: 0.5266 - val_loss: 0.6925 - val_acc: 0.5224\n",
      "Epoch 12/1000\n",
      "1542/1542 - 1s - loss: 0.6862 - acc: 0.5266 - val_loss: 0.6925 - val_acc: 0.5224\n",
      "Epoch 13/1000\n",
      "1542/1542 - 1s - loss: 0.6855 - acc: 0.5266 - val_loss: 0.6924 - val_acc: 0.5224\n",
      "Epoch 14/1000\n",
      "1542/1542 - 1s - loss: 0.6849 - acc: 0.5266 - val_loss: 0.6924 - val_acc: 0.5224\n",
      "Epoch 15/1000\n",
      "1542/1542 - 1s - loss: 0.6842 - acc: 0.5266 - val_loss: 0.6923 - val_acc: 0.5224\n",
      "Epoch 16/1000\n",
      "1542/1542 - 1s - loss: 0.6835 - acc: 0.5266 - val_loss: 0.6923 - val_acc: 0.5224\n",
      "Epoch 17/1000\n",
      "1542/1542 - 1s - loss: 0.6828 - acc: 0.5266 - val_loss: 0.6923 - val_acc: 0.5224\n",
      "Epoch 18/1000\n",
      "1542/1542 - 1s - loss: 0.6820 - acc: 0.5266 - val_loss: 0.6922 - val_acc: 0.5224\n",
      "Epoch 19/1000\n",
      "1542/1542 - 1s - loss: 0.6813 - acc: 0.5266 - val_loss: 0.6922 - val_acc: 0.5224\n",
      "Epoch 20/1000\n",
      "1542/1542 - 1s - loss: 0.6806 - acc: 0.5266 - val_loss: 0.6922 - val_acc: 0.5224\n",
      "Epoch 21/1000\n",
      "1542/1542 - 1s - loss: 0.6799 - acc: 0.5266 - val_loss: 0.6922 - val_acc: 0.5224\n",
      "Epoch 22/1000\n",
      "1542/1542 - 1s - loss: 0.6792 - acc: 0.5266 - val_loss: 0.6921 - val_acc: 0.5224\n",
      "Epoch 23/1000\n",
      "1542/1542 - 1s - loss: 0.6785 - acc: 0.5266 - val_loss: 0.6921 - val_acc: 0.5224\n",
      "Epoch 24/1000\n",
      "1542/1542 - 1s - loss: 0.6778 - acc: 0.5266 - val_loss: 0.6921 - val_acc: 0.5224\n",
      "Epoch 25/1000\n",
      "1542/1542 - 1s - loss: 0.6771 - acc: 0.5266 - val_loss: 0.6921 - val_acc: 0.5224\n",
      "Epoch 26/1000\n",
      "1542/1542 - 1s - loss: 0.6764 - acc: 0.5266 - val_loss: 0.6921 - val_acc: 0.5224\n",
      "Epoch 27/1000\n",
      "1542/1542 - 1s - loss: 0.6756 - acc: 0.5266 - val_loss: 0.6921 - val_acc: 0.5224\n",
      "Epoch 28/1000\n",
      "1542/1542 - 1s - loss: 0.6749 - acc: 0.5266 - val_loss: 0.6920 - val_acc: 0.5224\n",
      "Epoch 29/1000\n",
      "1542/1542 - 1s - loss: 0.6742 - acc: 0.5266 - val_loss: 0.6920 - val_acc: 0.5224\n",
      "Epoch 30/1000\n",
      "1542/1542 - 1s - loss: 0.6735 - acc: 0.5266 - val_loss: 0.6920 - val_acc: 0.5224\n",
      "Epoch 31/1000\n",
      "1542/1542 - 1s - loss: 0.6728 - acc: 0.5266 - val_loss: 0.6920 - val_acc: 0.5224\n",
      "Epoch 32/1000\n",
      "1542/1542 - 1s - loss: 0.6720 - acc: 0.5266 - val_loss: 0.6920 - val_acc: 0.5224\n",
      "Epoch 33/1000\n",
      "1542/1542 - 1s - loss: 0.6713 - acc: 0.5266 - val_loss: 0.6920 - val_acc: 0.5224\n",
      "Epoch 34/1000\n",
      "1542/1542 - 1s - loss: 0.6706 - acc: 0.5266 - val_loss: 0.6920 - val_acc: 0.5224\n",
      "Epoch 35/1000\n",
      "1542/1542 - 1s - loss: 0.6699 - acc: 0.5266 - val_loss: 0.6920 - val_acc: 0.5224\n",
      "Epoch 36/1000\n",
      "1542/1542 - 1s - loss: 0.6692 - acc: 0.5266 - val_loss: 0.6920 - val_acc: 0.5224\n",
      "Epoch 37/1000\n",
      "1542/1542 - 1s - loss: 0.6684 - acc: 0.5266 - val_loss: 0.6920 - val_acc: 0.5224\n",
      "Epoch 38/1000\n",
      "1542/1542 - 1s - loss: 0.6677 - acc: 0.5266 - val_loss: 0.6920 - val_acc: 0.5224\n",
      "Epoch 39/1000\n",
      "1542/1542 - 1s - loss: 0.6670 - acc: 0.5266 - val_loss: 0.6920 - val_acc: 0.5224\n",
      "Training Completed\n",
      "########################################\n",
      "############## Test Set: ###############\n",
      "########################################\n",
      "Precision:  0.5223735408560312\n",
      "Recall:  1.0\n",
      "Accuracy Score:  0.5223735408560312\n",
      "\n",
      "########################################\n",
      "############## Train Set: ##############\n",
      "########################################\n",
      "Precision:  0.5265888456549935\n",
      "Recall:  1.0\n",
      "Accuracy Score:  0.5265888456549935\n",
      "Train on 1542 samples, validate on 1028 samples\n",
      "Epoch 1/1000\n",
      "1542/1542 - 1s - loss: 0.6931 - acc: 0.4663 - val_loss: 0.6931 - val_acc: 0.5214\n",
      "Epoch 2/1000\n",
      "1542/1542 - 1s - loss: 0.6931 - acc: 0.5259 - val_loss: 0.6931 - val_acc: 0.5224\n",
      "Epoch 3/1000\n",
      "1542/1542 - 1s - loss: 0.6930 - acc: 0.5266 - val_loss: 0.6931 - val_acc: 0.5224\n",
      "Epoch 4/1000\n",
      "1542/1542 - 1s - loss: 0.6928 - acc: 0.5266 - val_loss: 0.6930 - val_acc: 0.5224\n",
      "Epoch 5/1000\n",
      "1542/1542 - 1s - loss: 0.6926 - acc: 0.5266 - val_loss: 0.6930 - val_acc: 0.5224\n",
      "Epoch 6/1000\n",
      "1542/1542 - 1s - loss: 0.6924 - acc: 0.5266 - val_loss: 0.6929 - val_acc: 0.5224\n",
      "Epoch 7/1000\n",
      "1542/1542 - 1s - loss: 0.6922 - acc: 0.5266 - val_loss: 0.6929 - val_acc: 0.5224\n",
      "Epoch 8/1000\n",
      "1542/1542 - 1s - loss: 0.6919 - acc: 0.5266 - val_loss: 0.6929 - val_acc: 0.5224\n",
      "Epoch 9/1000\n",
      "1542/1542 - 1s - loss: 0.6916 - acc: 0.5266 - val_loss: 0.6928 - val_acc: 0.5224\n",
      "Epoch 10/1000\n",
      "1542/1542 - 1s - loss: 0.6914 - acc: 0.5266 - val_loss: 0.6928 - val_acc: 0.5224\n",
      "Epoch 11/1000\n",
      "1542/1542 - 1s - loss: 0.6910 - acc: 0.5266 - val_loss: 0.6928 - val_acc: 0.5224\n",
      "Epoch 12/1000\n",
      "1542/1542 - 1s - loss: 0.6907 - acc: 0.5266 - val_loss: 0.6927 - val_acc: 0.5224\n",
      "Epoch 13/1000\n",
      "1542/1542 - 1s - loss: 0.6904 - acc: 0.5266 - val_loss: 0.6927 - val_acc: 0.5224\n",
      "Epoch 14/1000\n",
      "1542/1542 - 1s - loss: 0.6900 - acc: 0.5266 - val_loss: 0.6926 - val_acc: 0.5224\n",
      "Epoch 15/1000\n",
      "1542/1542 - 1s - loss: 0.6896 - acc: 0.5266 - val_loss: 0.6926 - val_acc: 0.5224\n",
      "Epoch 16/1000\n",
      "1542/1542 - 1s - loss: 0.6892 - acc: 0.5266 - val_loss: 0.6926 - val_acc: 0.5224\n",
      "Epoch 17/1000\n",
      "1542/1542 - 1s - loss: 0.6888 - acc: 0.5266 - val_loss: 0.6925 - val_acc: 0.5224\n",
      "Epoch 18/1000\n",
      "1542/1542 - 1s - loss: 0.6884 - acc: 0.5266 - val_loss: 0.6925 - val_acc: 0.5224\n",
      "Epoch 19/1000\n",
      "1542/1542 - 1s - loss: 0.6879 - acc: 0.5266 - val_loss: 0.6925 - val_acc: 0.5224\n",
      "Epoch 20/1000\n",
      "1542/1542 - 1s - loss: 0.6875 - acc: 0.5266 - val_loss: 0.6924 - val_acc: 0.5224\n",
      "Epoch 21/1000\n",
      "1542/1542 - 1s - loss: 0.6870 - acc: 0.5266 - val_loss: 0.6924 - val_acc: 0.5224\n",
      "Epoch 22/1000\n",
      "1542/1542 - 1s - loss: 0.6866 - acc: 0.5266 - val_loss: 0.6924 - val_acc: 0.5224\n",
      "Epoch 23/1000\n",
      "1542/1542 - 1s - loss: 0.6861 - acc: 0.5266 - val_loss: 0.6924 - val_acc: 0.5224\n",
      "Epoch 24/1000\n",
      "1542/1542 - 1s - loss: 0.6856 - acc: 0.5266 - val_loss: 0.6923 - val_acc: 0.5224\n",
      "Epoch 25/1000\n",
      "1542/1542 - 1s - loss: 0.6851 - acc: 0.5266 - val_loss: 0.6923 - val_acc: 0.5224\n",
      "Epoch 26/1000\n",
      "1542/1542 - 1s - loss: 0.6846 - acc: 0.5266 - val_loss: 0.6923 - val_acc: 0.5224\n",
      "Epoch 27/1000\n",
      "1542/1542 - 1s - loss: 0.6841 - acc: 0.5266 - val_loss: 0.6923 - val_acc: 0.5224\n",
      "Epoch 28/1000\n",
      "1542/1542 - 1s - loss: 0.6835 - acc: 0.5266 - val_loss: 0.6922 - val_acc: 0.5224\n",
      "Epoch 29/1000\n",
      "1542/1542 - 1s - loss: 0.6830 - acc: 0.5266 - val_loss: 0.6922 - val_acc: 0.5224\n",
      "Epoch 30/1000\n",
      "1542/1542 - 1s - loss: 0.6824 - acc: 0.5266 - val_loss: 0.6922 - val_acc: 0.5224\n",
      "Epoch 31/1000\n",
      "1542/1542 - 1s - loss: 0.6819 - acc: 0.5266 - val_loss: 0.6922 - val_acc: 0.5224\n",
      "Epoch 32/1000\n",
      "1542/1542 - 1s - loss: 0.6813 - acc: 0.5266 - val_loss: 0.6921 - val_acc: 0.5224\n",
      "Epoch 33/1000\n",
      "1542/1542 - 1s - loss: 0.6807 - acc: 0.5266 - val_loss: 0.6921 - val_acc: 0.5224\n",
      "Epoch 34/1000\n",
      "1542/1542 - 1s - loss: 0.6802 - acc: 0.5266 - val_loss: 0.6921 - val_acc: 0.5224\n",
      "Epoch 35/1000\n",
      "1542/1542 - 1s - loss: 0.6796 - acc: 0.5266 - val_loss: 0.6921 - val_acc: 0.5224\n",
      "Epoch 36/1000\n",
      "1542/1542 - 1s - loss: 0.6789 - acc: 0.5266 - val_loss: 0.6921 - val_acc: 0.5224\n",
      "Epoch 37/1000\n",
      "1542/1542 - 1s - loss: 0.6783 - acc: 0.5266 - val_loss: 0.6921 - val_acc: 0.5224\n",
      "Epoch 38/1000\n",
      "1542/1542 - 1s - loss: 0.6777 - acc: 0.5266 - val_loss: 0.6920 - val_acc: 0.5224\n",
      "Epoch 39/1000\n",
      "1542/1542 - 1s - loss: 0.6771 - acc: 0.5266 - val_loss: 0.6920 - val_acc: 0.5224\n",
      "Epoch 40/1000\n",
      "1542/1542 - 1s - loss: 0.6764 - acc: 0.5266 - val_loss: 0.6920 - val_acc: 0.5224\n",
      "Epoch 41/1000\n",
      "1542/1542 - 1s - loss: 0.6757 - acc: 0.5266 - val_loss: 0.6920 - val_acc: 0.5224\n",
      "Epoch 42/1000\n",
      "1542/1542 - 1s - loss: 0.6751 - acc: 0.5266 - val_loss: 0.6920 - val_acc: 0.5224\n"
     ]
    },
    {
     "name": "stdout",
     "output_type": "stream",
     "text": [
      "Epoch 43/1000\n",
      "1542/1542 - 1s - loss: 0.6744 - acc: 0.5266 - val_loss: 0.6920 - val_acc: 0.5224\n",
      "Epoch 44/1000\n",
      "1542/1542 - 1s - loss: 0.6737 - acc: 0.5266 - val_loss: 0.6920 - val_acc: 0.5224\n",
      "Epoch 45/1000\n",
      "1542/1542 - 1s - loss: 0.6730 - acc: 0.5266 - val_loss: 0.6920 - val_acc: 0.5224\n",
      "Epoch 46/1000\n",
      "1542/1542 - 1s - loss: 0.6723 - acc: 0.5266 - val_loss: 0.6920 - val_acc: 0.5224\n",
      "Epoch 47/1000\n",
      "1542/1542 - 1s - loss: 0.6715 - acc: 0.5266 - val_loss: 0.6920 - val_acc: 0.5224\n",
      "Epoch 48/1000\n",
      "1542/1542 - 1s - loss: 0.6708 - acc: 0.5266 - val_loss: 0.6920 - val_acc: 0.5224\n",
      "Epoch 49/1000\n",
      "1542/1542 - 1s - loss: 0.6700 - acc: 0.5266 - val_loss: 0.6920 - val_acc: 0.5224\n",
      "Epoch 50/1000\n",
      "1542/1542 - 1s - loss: 0.6693 - acc: 0.5266 - val_loss: 0.6919 - val_acc: 0.5224\n",
      "Epoch 51/1000\n",
      "1542/1542 - 1s - loss: 0.6685 - acc: 0.5266 - val_loss: 0.6919 - val_acc: 0.5224\n",
      "Epoch 52/1000\n",
      "1542/1542 - 1s - loss: 0.6677 - acc: 0.5266 - val_loss: 0.6919 - val_acc: 0.5224\n",
      "Epoch 53/1000\n",
      "1542/1542 - 1s - loss: 0.6669 - acc: 0.5266 - val_loss: 0.6919 - val_acc: 0.5224\n",
      "Epoch 54/1000\n",
      "1542/1542 - 1s - loss: 0.6660 - acc: 0.5266 - val_loss: 0.6919 - val_acc: 0.5224\n",
      "Epoch 55/1000\n",
      "1542/1542 - 1s - loss: 0.6652 - acc: 0.5266 - val_loss: 0.6919 - val_acc: 0.5224\n",
      "Epoch 56/1000\n",
      "1542/1542 - 1s - loss: 0.6644 - acc: 0.5266 - val_loss: 0.6919 - val_acc: 0.5224\n",
      "Epoch 57/1000\n",
      "1542/1542 - 1s - loss: 0.6635 - acc: 0.5266 - val_loss: 0.6919 - val_acc: 0.5224\n",
      "Epoch 58/1000\n",
      "1542/1542 - 1s - loss: 0.6626 - acc: 0.5266 - val_loss: 0.6919 - val_acc: 0.5224\n",
      "Epoch 59/1000\n",
      "1542/1542 - 1s - loss: 0.6617 - acc: 0.5266 - val_loss: 0.6919 - val_acc: 0.5224\n",
      "Epoch 60/1000\n",
      "1542/1542 - 1s - loss: 0.6608 - acc: 0.5266 - val_loss: 0.6919 - val_acc: 0.5224\n",
      "Training Completed\n",
      "########################################\n",
      "############## Test Set: ###############\n",
      "########################################\n",
      "Precision:  0.5223735408560312\n",
      "Recall:  1.0\n",
      "Accuracy Score:  0.5223735408560312\n",
      "\n",
      "########################################\n",
      "############## Train Set: ##############\n",
      "########################################\n",
      "Precision:  0.5265888456549935\n",
      "Recall:  1.0\n",
      "Accuracy Score:  0.5265888456549935\n",
      "Train on 1542 samples, validate on 1028 samples\n",
      "Epoch 1/1000\n",
      "1542/1542 - 2s - loss: 0.6932 - acc: 0.4734 - val_loss: 0.6932 - val_acc: 0.5039\n",
      "Epoch 2/1000\n",
      "1542/1542 - 1s - loss: 0.6930 - acc: 0.5720 - val_loss: 0.6931 - val_acc: 0.5019\n",
      "Epoch 3/1000\n",
      "1542/1542 - 1s - loss: 0.6927 - acc: 0.6291 - val_loss: 0.6931 - val_acc: 0.5000\n",
      "Epoch 4/1000\n",
      "1542/1542 - 1s - loss: 0.6922 - acc: 0.7114 - val_loss: 0.6931 - val_acc: 0.5000\n",
      "Epoch 5/1000\n",
      "1542/1542 - 1s - loss: 0.6918 - acc: 0.7704 - val_loss: 0.6931 - val_acc: 0.5010\n",
      "Epoch 6/1000\n",
      "1542/1542 - 1s - loss: 0.6913 - acc: 0.7737 - val_loss: 0.6931 - val_acc: 0.5029\n",
      "Epoch 7/1000\n",
      "1542/1542 - 1s - loss: 0.6908 - acc: 0.7659 - val_loss: 0.6931 - val_acc: 0.5019\n",
      "Epoch 8/1000\n",
      "1542/1542 - 1s - loss: 0.6902 - acc: 0.7691 - val_loss: 0.6931 - val_acc: 0.5058\n",
      "Epoch 9/1000\n",
      "1542/1542 - 1s - loss: 0.6896 - acc: 0.7756 - val_loss: 0.6931 - val_acc: 0.5088\n",
      "Epoch 10/1000\n",
      "1542/1542 - 1s - loss: 0.6890 - acc: 0.8016 - val_loss: 0.6930 - val_acc: 0.5097\n",
      "Epoch 11/1000\n",
      "1542/1542 - 1s - loss: 0.6883 - acc: 0.8210 - val_loss: 0.6930 - val_acc: 0.5117\n",
      "Epoch 12/1000\n",
      "1542/1542 - 1s - loss: 0.6876 - acc: 0.8366 - val_loss: 0.6930 - val_acc: 0.5088\n",
      "Epoch 13/1000\n",
      "1542/1542 - 1s - loss: 0.6868 - acc: 0.8547 - val_loss: 0.6930 - val_acc: 0.5088\n",
      "Epoch 14/1000\n",
      "1542/1542 - 1s - loss: 0.6860 - acc: 0.8722 - val_loss: 0.6930 - val_acc: 0.5078\n",
      "Epoch 15/1000\n",
      "1542/1542 - 1s - loss: 0.6852 - acc: 0.8943 - val_loss: 0.6930 - val_acc: 0.5117\n",
      "Epoch 16/1000\n",
      "1542/1542 - 1s - loss: 0.6843 - acc: 0.9079 - val_loss: 0.6930 - val_acc: 0.5049\n",
      "Epoch 17/1000\n",
      "1542/1542 - 1s - loss: 0.6834 - acc: 0.9183 - val_loss: 0.6929 - val_acc: 0.5097\n",
      "Epoch 18/1000\n",
      "1542/1542 - 1s - loss: 0.6825 - acc: 0.9313 - val_loss: 0.6929 - val_acc: 0.5126\n",
      "Epoch 19/1000\n",
      "1542/1542 - 1s - loss: 0.6815 - acc: 0.9384 - val_loss: 0.6929 - val_acc: 0.5117\n",
      "Epoch 20/1000\n",
      "1542/1542 - 1s - loss: 0.6805 - acc: 0.9494 - val_loss: 0.6929 - val_acc: 0.5078\n",
      "Epoch 21/1000\n",
      "1542/1542 - 1s - loss: 0.6794 - acc: 0.9559 - val_loss: 0.6929 - val_acc: 0.5068\n",
      "Epoch 22/1000\n",
      "1542/1542 - 1s - loss: 0.6784 - acc: 0.9598 - val_loss: 0.6929 - val_acc: 0.5107\n",
      "Epoch 23/1000\n",
      "1542/1542 - 1s - loss: 0.6773 - acc: 0.9617 - val_loss: 0.6929 - val_acc: 0.5136\n",
      "Epoch 24/1000\n",
      "1542/1542 - 1s - loss: 0.6761 - acc: 0.9650 - val_loss: 0.6928 - val_acc: 0.5126\n",
      "Epoch 25/1000\n",
      "1542/1542 - 1s - loss: 0.6749 - acc: 0.9682 - val_loss: 0.6928 - val_acc: 0.5126\n",
      "Epoch 26/1000\n",
      "1542/1542 - 1s - loss: 0.6737 - acc: 0.9702 - val_loss: 0.6928 - val_acc: 0.5146\n",
      "Epoch 27/1000\n",
      "1542/1542 - 1s - loss: 0.6725 - acc: 0.9721 - val_loss: 0.6928 - val_acc: 0.5156\n",
      "Epoch 28/1000\n",
      "1542/1542 - 1s - loss: 0.6712 - acc: 0.9747 - val_loss: 0.6928 - val_acc: 0.5146\n",
      "Epoch 29/1000\n",
      "1542/1542 - 1s - loss: 0.6699 - acc: 0.9780 - val_loss: 0.6928 - val_acc: 0.5117\n",
      "Training Completed\n",
      "########################################\n",
      "############## Test Set: ###############\n",
      "########################################\n",
      "Precision:  0.5256975036710719\n",
      "Recall:  0.6666666666666666\n",
      "Accuracy Score:  0.5116731517509727\n",
      "\n",
      "########################################\n",
      "############## Train Set: ##############\n",
      "########################################\n",
      "Precision:  0.966547192353644\n",
      "Recall:  0.9963054187192119\n",
      "Accuracy Score:  0.9798962386511024\n"
     ]
    }
   ],
   "source": [
    "df = pd.read_csv('Assignment4-data.csv')\n",
    "\n",
    "# Creates return_direction column \n",
    "df[\"returns_direction\"] = np.where(df[\"returns\"]>0, 1, 0)\n",
    "df.head()\n",
    "X_headlines = df.headlines.values\n",
    "y = df.returns_direction\n",
    "data = split_by_threshold(X_headlines, y, test_size=0.4,)\n",
    "(train_texts, y_train, test_texts, y_test) = data\n",
    "(X_train, X_test, vectorizer, k_best_selector) = ngram_vectorize(data,)\n",
    "data = (X_train, y_train, X_test, y_test)\n",
    "\n",
    "\n",
    "model = build_model(X_train.shape[1:], layers=1, units=1);\n",
    "model = train_model(data, model)\n",
    "evaluate(model, data)\n",
    "\n",
    "model = build_model(X_train.shape[1:], layers=2, units=3);\n",
    "model = train_model(data, model)\n",
    "evaluate(model, data)\n",
    "\n",
    "model = build_model(X_train.shape[1:], layers=3, units=5);\n",
    "model = train_model(data, model)\n",
    "evaluate(model, data)"
   ]
  },
  {
   "cell_type": "markdown",
   "metadata": {
    "deletable": false,
    "editable": false,
    "nbgrader": {
     "checksum": "37b6d9e8beb5054f36de91f5ee00a41b",
     "grade": false,
     "grade_id": "cell-bce99d4e20f9011e",
     "locked": true,
     "schema_version": 1,
     "solution": false
    }
   },
   "source": [
    "### Answer 6 - Text"
   ]
  },
  {
   "cell_type": "markdown",
   "metadata": {
    "deletable": false,
    "nbgrader": {
     "checksum": "ec8fb4cf92349e72056d02a6b2ae497e",
     "grade": true,
     "grade_id": "cell-b4cd52cc02c91ab1",
     "locked": false,
     "points": 2,
     "schema_version": 1,
     "solution": true
    }
   },
   "source": [
    "| Num. Layers  | Num. Units           | Precision  | Recall | Accuracy |\n",
    "| --------- |:---------:| -----:| -----:| -----:|\n",
    "| 1 | 1 | 0.5223735408560312 | 1.0 | 0.5223735408560312 |\n",
    "| 2 | 3 | 0.5223735408560312 | 1.0 | 0.5223735408560312 |\n",
    "| 3 | 5 | 0.5256975036710719 | 0.6666666666666666 | 0.5116731517509727 |\n",
    "  \n",
    "  \n",
    "The first two neural networks (1/1 and 2/3) the model is again just always guessing True for each instance. This is indicated by the recall being 1.0 and the precision and accuracy being the same. This would be caused by the model not comprehending the complexity of the dataset and just classifying the class which is most common (True, which occurs 52.23% of the time). As the number of layers and units increase to 3 and 5 respectively the models starts classifying instances properly which is reflected in the precision rising and the recall dropping. of the three neural networks tested, 3/5 is the best.\n",
    "\n",
    "\n"
   ]
  },
  {
   "cell_type": "markdown",
   "metadata": {
    "deletable": false,
    "editable": false,
    "nbgrader": {
     "checksum": "79e091d9cca7e0e310039e9e7f3070d2",
     "grade": false,
     "grade_id": "cell-de71e9154d8be94e",
     "locked": true,
     "schema_version": 1,
     "solution": false
    }
   },
   "source": [
    "### Question 7 (3 marks)\n",
    "Explore the effects of different splits between the training and testing data on the performance of a given neural network model. \n",
    "\n",
    "Complete the table below by adding your results. You should duplicate the table format in your own markdown cell and replace the \"-\" placeholders with the corresponding values. Discuss your findings.\n",
    "\n",
    "Complete the table below by adding your results for the **test** data set. You should use the same markdown format and simply replace the \"-\" placeholders with the corresponding values. Discuss your findings for the different test and train data sets.\n",
    "\n",
    "| Num. Layers/Num. Units| Train/Test split | Precision  | Recall | Accuracy |\n",
    "| --------- |:---------:| -----:| -----:| -----:|\n",
    "| 2/3 | 90/10 | - |- |- |\n",
    "| 3/5 | 90/10 | - |- |- |\n",
    "| 2/3 | 60/40 | - |- |- |\n",
    "| 3/5 | 60/40 | - |- |- |"
   ]
  },
  {
   "cell_type": "markdown",
   "metadata": {
    "deletable": false,
    "editable": false,
    "nbgrader": {
     "checksum": "023472e2a336588fcf1cb449d3db0b4f",
     "grade": false,
     "grade_id": "cell-fe844a14497f43c0",
     "locked": true,
     "schema_version": 1,
     "solution": false
    }
   },
   "source": [
    "### Answer 7 - Code"
   ]
  },
  {
   "cell_type": "code",
   "execution_count": 53,
   "metadata": {
    "deletable": false,
    "nbgrader": {
     "checksum": "21802807215634c37471039f116a8102",
     "grade": true,
     "grade_id": "cell-d1a982406e0230ff",
     "locked": false,
     "points": 2,
     "schema_version": 1,
     "solution": true
    }
   },
   "outputs": [
    {
     "name": "stdout",
     "output_type": "stream",
     "text": [
      "Train on 2313 samples, validate on 257 samples\n",
      "Epoch 1/1000\n",
      "2313/2313 - 2s - loss: 0.6932 - acc: 0.4777 - val_loss: 0.6931 - val_acc: 0.5175\n",
      "Epoch 2/1000\n",
      "2313/2313 - 1s - loss: 0.6931 - acc: 0.5257 - val_loss: 0.6931 - val_acc: 0.5175\n",
      "Epoch 3/1000\n",
      "2313/2313 - 1s - loss: 0.6930 - acc: 0.5257 - val_loss: 0.6931 - val_acc: 0.5175\n",
      "Epoch 4/1000\n",
      "2313/2313 - 1s - loss: 0.6929 - acc: 0.5257 - val_loss: 0.6931 - val_acc: 0.5175\n",
      "Epoch 5/1000\n",
      "2313/2313 - 1s - loss: 0.6927 - acc: 0.5257 - val_loss: 0.6931 - val_acc: 0.5175\n",
      "Epoch 6/1000\n",
      "2313/2313 - 1s - loss: 0.6925 - acc: 0.5257 - val_loss: 0.6931 - val_acc: 0.5175\n",
      "Epoch 7/1000\n",
      "2313/2313 - 1s - loss: 0.6923 - acc: 0.5257 - val_loss: 0.6931 - val_acc: 0.5175\n",
      "Epoch 8/1000\n",
      "2313/2313 - 1s - loss: 0.6921 - acc: 0.5257 - val_loss: 0.6931 - val_acc: 0.5175\n",
      "Epoch 9/1000\n",
      "2313/2313 - 1s - loss: 0.6918 - acc: 0.5257 - val_loss: 0.6930 - val_acc: 0.5175\n",
      "Epoch 10/1000\n",
      "2313/2313 - 1s - loss: 0.6916 - acc: 0.5257 - val_loss: 0.6930 - val_acc: 0.5175\n",
      "Epoch 11/1000\n",
      "2313/2313 - 1s - loss: 0.6913 - acc: 0.5257 - val_loss: 0.6930 - val_acc: 0.5175\n",
      "Epoch 12/1000\n",
      "2313/2313 - 1s - loss: 0.6909 - acc: 0.5257 - val_loss: 0.6930 - val_acc: 0.5175\n",
      "Epoch 13/1000\n",
      "2313/2313 - 1s - loss: 0.6906 - acc: 0.5257 - val_loss: 0.6930 - val_acc: 0.5175\n",
      "Epoch 14/1000\n",
      "2313/2313 - 1s - loss: 0.6902 - acc: 0.5257 - val_loss: 0.6930 - val_acc: 0.5175\n",
      "Epoch 15/1000\n",
      "2313/2313 - 1s - loss: 0.6899 - acc: 0.5257 - val_loss: 0.6929 - val_acc: 0.5175\n",
      "Epoch 16/1000\n",
      "2313/2313 - 1s - loss: 0.6895 - acc: 0.5257 - val_loss: 0.6929 - val_acc: 0.5175\n",
      "Epoch 17/1000\n",
      "2313/2313 - 1s - loss: 0.6891 - acc: 0.5257 - val_loss: 0.6929 - val_acc: 0.5175\n",
      "Epoch 18/1000\n",
      "2313/2313 - 1s - loss: 0.6887 - acc: 0.5257 - val_loss: 0.6929 - val_acc: 0.5175\n",
      "Epoch 19/1000\n",
      "2313/2313 - 1s - loss: 0.6883 - acc: 0.5257 - val_loss: 0.6929 - val_acc: 0.5175\n",
      "Epoch 20/1000\n",
      "2313/2313 - 1s - loss: 0.6879 - acc: 0.5257 - val_loss: 0.6929 - val_acc: 0.5175\n",
      "Epoch 21/1000\n",
      "2313/2313 - 1s - loss: 0.6875 - acc: 0.5257 - val_loss: 0.6929 - val_acc: 0.5175\n",
      "Epoch 22/1000\n",
      "2313/2313 - 1s - loss: 0.6870 - acc: 0.5257 - val_loss: 0.6928 - val_acc: 0.5175\n",
      "Epoch 23/1000\n",
      "2313/2313 - 1s - loss: 0.6866 - acc: 0.5257 - val_loss: 0.6928 - val_acc: 0.5175\n",
      "Epoch 24/1000\n",
      "2313/2313 - 1s - loss: 0.6861 - acc: 0.5257 - val_loss: 0.6928 - val_acc: 0.5175\n",
      "Epoch 25/1000\n",
      "2313/2313 - 1s - loss: 0.6857 - acc: 0.5257 - val_loss: 0.6928 - val_acc: 0.5175\n",
      "Epoch 26/1000\n",
      "2313/2313 - 1s - loss: 0.6852 - acc: 0.5257 - val_loss: 0.6928 - val_acc: 0.5175\n",
      "Epoch 27/1000\n",
      "2313/2313 - 1s - loss: 0.6847 - acc: 0.5257 - val_loss: 0.6928 - val_acc: 0.5175\n",
      "Epoch 28/1000\n",
      "2313/2313 - 1s - loss: 0.6843 - acc: 0.5257 - val_loss: 0.6928 - val_acc: 0.5175\n",
      "Epoch 29/1000\n",
      "2313/2313 - 1s - loss: 0.6838 - acc: 0.5257 - val_loss: 0.6928 - val_acc: 0.5175\n",
      "Epoch 30/1000\n",
      "2313/2313 - 1s - loss: 0.6833 - acc: 0.5257 - val_loss: 0.6928 - val_acc: 0.5175\n",
      "Epoch 31/1000\n",
      "2313/2313 - 1s - loss: 0.6828 - acc: 0.5257 - val_loss: 0.6928 - val_acc: 0.5175\n",
      "Epoch 32/1000\n",
      "2313/2313 - 1s - loss: 0.6822 - acc: 0.5257 - val_loss: 0.6928 - val_acc: 0.5175\n",
      "Epoch 33/1000\n",
      "2313/2313 - 1s - loss: 0.6817 - acc: 0.5257 - val_loss: 0.6928 - val_acc: 0.5175\n",
      "Epoch 34/1000\n",
      "2313/2313 - 1s - loss: 0.6812 - acc: 0.5257 - val_loss: 0.6928 - val_acc: 0.5175\n",
      "Epoch 35/1000\n",
      "2313/2313 - 1s - loss: 0.6806 - acc: 0.5257 - val_loss: 0.6927 - val_acc: 0.5175\n",
      "Epoch 36/1000\n",
      "2313/2313 - 1s - loss: 0.6801 - acc: 0.5257 - val_loss: 0.6927 - val_acc: 0.5175\n",
      "Epoch 37/1000\n",
      "2313/2313 - 1s - loss: 0.6795 - acc: 0.5257 - val_loss: 0.6927 - val_acc: 0.5175\n",
      "Epoch 38/1000\n",
      "2313/2313 - 1s - loss: 0.6789 - acc: 0.5257 - val_loss: 0.6927 - val_acc: 0.5175\n",
      "Epoch 39/1000\n",
      "2313/2313 - 1s - loss: 0.6784 - acc: 0.5257 - val_loss: 0.6927 - val_acc: 0.5175\n",
      "Training Completed\n",
      "########################################\n",
      "############## Test Set: ###############\n",
      "########################################\n",
      "Precision:  0.5175097276264592\n",
      "Recall:  1.0\n",
      "Accuracy Score:  0.5175097276264592\n",
      "\n",
      "########################################\n",
      "############## Train Set: ##############\n",
      "########################################\n",
      "Precision:  0.5257241677475141\n",
      "Recall:  1.0\n",
      "Accuracy Score:  0.5257241677475141\n",
      "Train on 2313 samples, validate on 257 samples\n",
      "Epoch 1/1000\n",
      "2313/2313 - 1s - loss: 0.6932 - acc: 0.4743 - val_loss: 0.6932 - val_acc: 0.4942\n",
      "Epoch 2/1000\n",
      "2313/2313 - 1s - loss: 0.6930 - acc: 0.5819 - val_loss: 0.6932 - val_acc: 0.5019\n",
      "Epoch 3/1000\n",
      "2313/2313 - 1s - loss: 0.6927 - acc: 0.6412 - val_loss: 0.6932 - val_acc: 0.4669\n",
      "Training Completed\n",
      "########################################\n",
      "############## Test Set: ###############\n",
      "########################################\n",
      "Precision:  0.4897959183673469\n",
      "Recall:  0.7218045112781954\n",
      "Accuracy Score:  0.4669260700389105\n",
      "\n",
      "########################################\n",
      "############## Train Set: ##############\n",
      "########################################\n",
      "Precision:  0.6714780600461894\n",
      "Recall:  0.9564144736842105\n",
      "Accuracy Score:  0.7310851707738867\n",
      "Train on 1542 samples, validate on 1028 samples\n",
      "Epoch 1/1000\n",
      "1542/1542 - 1s - loss: 0.6931 - acc: 0.4663 - val_loss: 0.6931 - val_acc: 0.5214\n",
      "Epoch 2/1000\n",
      "1542/1542 - 1s - loss: 0.6931 - acc: 0.5259 - val_loss: 0.6931 - val_acc: 0.5224\n",
      "Epoch 3/1000\n",
      "1542/1542 - 1s - loss: 0.6930 - acc: 0.5266 - val_loss: 0.6931 - val_acc: 0.5224\n",
      "Epoch 4/1000\n",
      "1542/1542 - 1s - loss: 0.6928 - acc: 0.5266 - val_loss: 0.6930 - val_acc: 0.5224\n",
      "Epoch 5/1000\n",
      "1542/1542 - 1s - loss: 0.6926 - acc: 0.5266 - val_loss: 0.6930 - val_acc: 0.5224\n",
      "Epoch 6/1000\n",
      "1542/1542 - 1s - loss: 0.6924 - acc: 0.5266 - val_loss: 0.6929 - val_acc: 0.5224\n",
      "Epoch 7/1000\n",
      "1542/1542 - 1s - loss: 0.6922 - acc: 0.5266 - val_loss: 0.6929 - val_acc: 0.5224\n",
      "Epoch 8/1000\n",
      "1542/1542 - 1s - loss: 0.6919 - acc: 0.5266 - val_loss: 0.6929 - val_acc: 0.5224\n",
      "Epoch 9/1000\n",
      "1542/1542 - 1s - loss: 0.6916 - acc: 0.5266 - val_loss: 0.6928 - val_acc: 0.5224\n",
      "Epoch 10/1000\n",
      "1542/1542 - 1s - loss: 0.6914 - acc: 0.5266 - val_loss: 0.6928 - val_acc: 0.5224\n",
      "Epoch 11/1000\n",
      "1542/1542 - 1s - loss: 0.6910 - acc: 0.5266 - val_loss: 0.6928 - val_acc: 0.5224\n",
      "Epoch 12/1000\n",
      "1542/1542 - 1s - loss: 0.6907 - acc: 0.5266 - val_loss: 0.6927 - val_acc: 0.5224\n",
      "Epoch 13/1000\n",
      "1542/1542 - 1s - loss: 0.6904 - acc: 0.5266 - val_loss: 0.6927 - val_acc: 0.5224\n",
      "Epoch 14/1000\n",
      "1542/1542 - 1s - loss: 0.6900 - acc: 0.5266 - val_loss: 0.6926 - val_acc: 0.5224\n",
      "Epoch 15/1000\n",
      "1542/1542 - 1s - loss: 0.6896 - acc: 0.5266 - val_loss: 0.6926 - val_acc: 0.5224\n",
      "Epoch 16/1000\n",
      "1542/1542 - 1s - loss: 0.6892 - acc: 0.5266 - val_loss: 0.6926 - val_acc: 0.5224\n",
      "Epoch 17/1000\n",
      "1542/1542 - 1s - loss: 0.6888 - acc: 0.5266 - val_loss: 0.6925 - val_acc: 0.5224\n",
      "Epoch 18/1000\n",
      "1542/1542 - 1s - loss: 0.6884 - acc: 0.5266 - val_loss: 0.6925 - val_acc: 0.5224\n",
      "Epoch 19/1000\n",
      "1542/1542 - 1s - loss: 0.6879 - acc: 0.5266 - val_loss: 0.6925 - val_acc: 0.5224\n",
      "Epoch 20/1000\n",
      "1542/1542 - 1s - loss: 0.6875 - acc: 0.5266 - val_loss: 0.6924 - val_acc: 0.5224\n",
      "Epoch 21/1000\n",
      "1542/1542 - 1s - loss: 0.6870 - acc: 0.5266 - val_loss: 0.6924 - val_acc: 0.5224\n",
      "Epoch 22/1000\n",
      "1542/1542 - 1s - loss: 0.6866 - acc: 0.5266 - val_loss: 0.6924 - val_acc: 0.5224\n",
      "Epoch 23/1000\n",
      "1542/1542 - 1s - loss: 0.6861 - acc: 0.5266 - val_loss: 0.6924 - val_acc: 0.5224\n",
      "Epoch 24/1000\n",
      "1542/1542 - 1s - loss: 0.6856 - acc: 0.5266 - val_loss: 0.6923 - val_acc: 0.5224\n",
      "Epoch 25/1000\n",
      "1542/1542 - 1s - loss: 0.6851 - acc: 0.5266 - val_loss: 0.6923 - val_acc: 0.5224\n",
      "Epoch 26/1000\n",
      "1542/1542 - 1s - loss: 0.6846 - acc: 0.5266 - val_loss: 0.6923 - val_acc: 0.5224\n",
      "Epoch 27/1000\n",
      "1542/1542 - 1s - loss: 0.6841 - acc: 0.5266 - val_loss: 0.6923 - val_acc: 0.5224\n",
      "Epoch 28/1000\n",
      "1542/1542 - 1s - loss: 0.6835 - acc: 0.5266 - val_loss: 0.6922 - val_acc: 0.5224\n",
      "Epoch 29/1000\n",
      "1542/1542 - 1s - loss: 0.6830 - acc: 0.5266 - val_loss: 0.6922 - val_acc: 0.5224\n",
      "Epoch 30/1000\n",
      "1542/1542 - 1s - loss: 0.6824 - acc: 0.5266 - val_loss: 0.6922 - val_acc: 0.5224\n",
      "Epoch 31/1000\n",
      "1542/1542 - 1s - loss: 0.6819 - acc: 0.5266 - val_loss: 0.6922 - val_acc: 0.5224\n",
      "Epoch 32/1000\n",
      "1542/1542 - 1s - loss: 0.6813 - acc: 0.5266 - val_loss: 0.6921 - val_acc: 0.5224\n",
      "Epoch 33/1000\n",
      "1542/1542 - 1s - loss: 0.6807 - acc: 0.5266 - val_loss: 0.6921 - val_acc: 0.5224\n",
      "Epoch 34/1000\n",
      "1542/1542 - 1s - loss: 0.6802 - acc: 0.5266 - val_loss: 0.6921 - val_acc: 0.5224\n"
     ]
    },
    {
     "name": "stdout",
     "output_type": "stream",
     "text": [
      "Epoch 35/1000\n",
      "1542/1542 - 1s - loss: 0.6796 - acc: 0.5266 - val_loss: 0.6921 - val_acc: 0.5224\n",
      "Epoch 36/1000\n",
      "1542/1542 - 1s - loss: 0.6789 - acc: 0.5266 - val_loss: 0.6921 - val_acc: 0.5224\n",
      "Epoch 37/1000\n",
      "1542/1542 - 1s - loss: 0.6783 - acc: 0.5266 - val_loss: 0.6921 - val_acc: 0.5224\n",
      "Epoch 38/1000\n",
      "1542/1542 - 1s - loss: 0.6777 - acc: 0.5266 - val_loss: 0.6920 - val_acc: 0.5224\n",
      "Epoch 39/1000\n",
      "1542/1542 - 1s - loss: 0.6771 - acc: 0.5266 - val_loss: 0.6920 - val_acc: 0.5224\n",
      "Epoch 40/1000\n",
      "1542/1542 - 1s - loss: 0.6764 - acc: 0.5266 - val_loss: 0.6920 - val_acc: 0.5224\n",
      "Epoch 41/1000\n",
      "1542/1542 - 1s - loss: 0.6757 - acc: 0.5266 - val_loss: 0.6920 - val_acc: 0.5224\n",
      "Epoch 42/1000\n",
      "1542/1542 - 1s - loss: 0.6751 - acc: 0.5266 - val_loss: 0.6920 - val_acc: 0.5224\n",
      "Epoch 43/1000\n",
      "1542/1542 - 1s - loss: 0.6744 - acc: 0.5266 - val_loss: 0.6920 - val_acc: 0.5224\n",
      "Epoch 44/1000\n",
      "1542/1542 - 1s - loss: 0.6737 - acc: 0.5266 - val_loss: 0.6920 - val_acc: 0.5224\n",
      "Epoch 45/1000\n",
      "1542/1542 - 1s - loss: 0.6730 - acc: 0.5266 - val_loss: 0.6920 - val_acc: 0.5224\n",
      "Epoch 46/1000\n",
      "1542/1542 - 1s - loss: 0.6723 - acc: 0.5266 - val_loss: 0.6920 - val_acc: 0.5224\n",
      "Epoch 47/1000\n",
      "1542/1542 - 1s - loss: 0.6715 - acc: 0.5266 - val_loss: 0.6920 - val_acc: 0.5224\n",
      "Epoch 48/1000\n",
      "1542/1542 - 1s - loss: 0.6708 - acc: 0.5266 - val_loss: 0.6920 - val_acc: 0.5224\n",
      "Epoch 49/1000\n",
      "1542/1542 - 1s - loss: 0.6700 - acc: 0.5266 - val_loss: 0.6920 - val_acc: 0.5224\n",
      "Epoch 50/1000\n",
      "1542/1542 - 1s - loss: 0.6693 - acc: 0.5266 - val_loss: 0.6919 - val_acc: 0.5224\n",
      "Epoch 51/1000\n",
      "1542/1542 - 1s - loss: 0.6685 - acc: 0.5266 - val_loss: 0.6919 - val_acc: 0.5224\n",
      "Epoch 52/1000\n",
      "1542/1542 - 1s - loss: 0.6677 - acc: 0.5266 - val_loss: 0.6919 - val_acc: 0.5224\n",
      "Epoch 53/1000\n",
      "1542/1542 - 1s - loss: 0.6669 - acc: 0.5266 - val_loss: 0.6919 - val_acc: 0.5224\n",
      "Epoch 54/1000\n",
      "1542/1542 - 1s - loss: 0.6660 - acc: 0.5266 - val_loss: 0.6919 - val_acc: 0.5224\n",
      "Epoch 55/1000\n",
      "1542/1542 - 1s - loss: 0.6652 - acc: 0.5266 - val_loss: 0.6919 - val_acc: 0.5224\n",
      "Epoch 56/1000\n",
      "1542/1542 - 1s - loss: 0.6644 - acc: 0.5266 - val_loss: 0.6919 - val_acc: 0.5224\n",
      "Epoch 57/1000\n",
      "1542/1542 - 1s - loss: 0.6635 - acc: 0.5266 - val_loss: 0.6919 - val_acc: 0.5224\n",
      "Epoch 58/1000\n",
      "1542/1542 - 1s - loss: 0.6626 - acc: 0.5266 - val_loss: 0.6919 - val_acc: 0.5224\n",
      "Epoch 59/1000\n",
      "1542/1542 - 1s - loss: 0.6617 - acc: 0.5266 - val_loss: 0.6919 - val_acc: 0.5224\n",
      "Epoch 60/1000\n",
      "1542/1542 - 1s - loss: 0.6608 - acc: 0.5266 - val_loss: 0.6919 - val_acc: 0.5224\n",
      "Training Completed\n",
      "########################################\n",
      "############## Test Set: ###############\n",
      "########################################\n",
      "Precision:  0.5223735408560312\n",
      "Recall:  1.0\n",
      "Accuracy Score:  0.5223735408560312\n",
      "\n",
      "########################################\n",
      "############## Train Set: ##############\n",
      "########################################\n",
      "Precision:  0.5265888456549935\n",
      "Recall:  1.0\n",
      "Accuracy Score:  0.5265888456549935\n",
      "Train on 1542 samples, validate on 1028 samples\n",
      "Epoch 1/1000\n",
      "1542/1542 - 1s - loss: 0.6932 - acc: 0.4734 - val_loss: 0.6932 - val_acc: 0.5039\n",
      "Epoch 2/1000\n",
      "1542/1542 - 1s - loss: 0.6930 - acc: 0.5720 - val_loss: 0.6931 - val_acc: 0.5019\n",
      "Epoch 3/1000\n",
      "1542/1542 - 1s - loss: 0.6927 - acc: 0.6291 - val_loss: 0.6931 - val_acc: 0.5000\n",
      "Epoch 4/1000\n",
      "1542/1542 - 1s - loss: 0.6922 - acc: 0.7114 - val_loss: 0.6931 - val_acc: 0.5000\n",
      "Epoch 5/1000\n",
      "1542/1542 - 1s - loss: 0.6918 - acc: 0.7704 - val_loss: 0.6931 - val_acc: 0.5010\n",
      "Epoch 6/1000\n",
      "1542/1542 - 1s - loss: 0.6913 - acc: 0.7737 - val_loss: 0.6931 - val_acc: 0.5029\n",
      "Epoch 7/1000\n",
      "1542/1542 - 1s - loss: 0.6908 - acc: 0.7659 - val_loss: 0.6931 - val_acc: 0.5019\n",
      "Epoch 8/1000\n",
      "1542/1542 - 1s - loss: 0.6902 - acc: 0.7691 - val_loss: 0.6931 - val_acc: 0.5058\n",
      "Epoch 9/1000\n",
      "1542/1542 - 1s - loss: 0.6896 - acc: 0.7756 - val_loss: 0.6931 - val_acc: 0.5088\n",
      "Epoch 10/1000\n",
      "1542/1542 - 1s - loss: 0.6890 - acc: 0.8016 - val_loss: 0.6930 - val_acc: 0.5097\n",
      "Epoch 11/1000\n",
      "1542/1542 - 1s - loss: 0.6883 - acc: 0.8210 - val_loss: 0.6930 - val_acc: 0.5117\n",
      "Epoch 12/1000\n",
      "1542/1542 - 1s - loss: 0.6876 - acc: 0.8366 - val_loss: 0.6930 - val_acc: 0.5088\n",
      "Epoch 13/1000\n",
      "1542/1542 - 1s - loss: 0.6868 - acc: 0.8547 - val_loss: 0.6930 - val_acc: 0.5088\n",
      "Epoch 14/1000\n",
      "1542/1542 - 1s - loss: 0.6860 - acc: 0.8722 - val_loss: 0.6930 - val_acc: 0.5078\n",
      "Epoch 15/1000\n",
      "1542/1542 - 1s - loss: 0.6852 - acc: 0.8943 - val_loss: 0.6930 - val_acc: 0.5117\n",
      "Epoch 16/1000\n",
      "1542/1542 - 1s - loss: 0.6843 - acc: 0.9079 - val_loss: 0.6930 - val_acc: 0.5049\n",
      "Epoch 17/1000\n",
      "1542/1542 - 1s - loss: 0.6834 - acc: 0.9183 - val_loss: 0.6929 - val_acc: 0.5097\n",
      "Epoch 18/1000\n",
      "1542/1542 - 1s - loss: 0.6825 - acc: 0.9313 - val_loss: 0.6929 - val_acc: 0.5126\n",
      "Epoch 19/1000\n",
      "1542/1542 - 1s - loss: 0.6815 - acc: 0.9384 - val_loss: 0.6929 - val_acc: 0.5117\n",
      "Epoch 20/1000\n",
      "1542/1542 - 1s - loss: 0.6805 - acc: 0.9494 - val_loss: 0.6929 - val_acc: 0.5078\n",
      "Epoch 21/1000\n",
      "1542/1542 - 1s - loss: 0.6794 - acc: 0.9559 - val_loss: 0.6929 - val_acc: 0.5068\n",
      "Epoch 22/1000\n",
      "1542/1542 - 1s - loss: 0.6784 - acc: 0.9598 - val_loss: 0.6929 - val_acc: 0.5107\n",
      "Epoch 23/1000\n",
      "1542/1542 - 1s - loss: 0.6773 - acc: 0.9617 - val_loss: 0.6929 - val_acc: 0.5136\n",
      "Epoch 24/1000\n",
      "1542/1542 - 1s - loss: 0.6761 - acc: 0.9650 - val_loss: 0.6928 - val_acc: 0.5126\n",
      "Epoch 25/1000\n",
      "1542/1542 - 1s - loss: 0.6749 - acc: 0.9682 - val_loss: 0.6928 - val_acc: 0.5126\n",
      "Epoch 26/1000\n",
      "1542/1542 - 1s - loss: 0.6737 - acc: 0.9702 - val_loss: 0.6928 - val_acc: 0.5146\n",
      "Epoch 27/1000\n",
      "1542/1542 - 1s - loss: 0.6725 - acc: 0.9721 - val_loss: 0.6928 - val_acc: 0.5156\n",
      "Epoch 28/1000\n",
      "1542/1542 - 1s - loss: 0.6712 - acc: 0.9747 - val_loss: 0.6928 - val_acc: 0.5146\n",
      "Epoch 29/1000\n",
      "1542/1542 - 1s - loss: 0.6699 - acc: 0.9780 - val_loss: 0.6928 - val_acc: 0.5117\n",
      "Training Completed\n",
      "########################################\n",
      "############## Test Set: ###############\n",
      "########################################\n",
      "Precision:  0.5256975036710719\n",
      "Recall:  0.6666666666666666\n",
      "Accuracy Score:  0.5116731517509727\n",
      "\n",
      "########################################\n",
      "############## Train Set: ##############\n",
      "########################################\n",
      "Precision:  0.966547192353644\n",
      "Recall:  0.9963054187192119\n",
      "Accuracy Score:  0.9798962386511024\n"
     ]
    }
   ],
   "source": [
    "df = pd.read_csv('Assignment4-data.csv')\n",
    "\n",
    "# Creates return_direction column \n",
    "df[\"returns_direction\"] = np.where(df[\"returns\"]>0, 1, 0)\n",
    "\n",
    "X_headlines = df.headlines.values\n",
    "y = df.returns_direction\n",
    "data = split_by_threshold(X_headlines, y, test_size=0.1,)\n",
    "(train_texts, y_train, test_texts, y_test) = data\n",
    "(X_train, X_test, vectorizer, k_best_selector) = ngram_vectorize(data,)\n",
    "data = (X_train, y_train, X_test, y_test)\n",
    "\n",
    "\n",
    "model = build_model(X_train.shape[1:], layers=2, units=3);\n",
    "model = train_model(data, model)\n",
    "evaluate(model, data)\n",
    "model = build_model(X_train.shape[1:], layers=3, units=5);\n",
    "model = train_model(data, model)\n",
    "evaluate(model, data)\n",
    "\n",
    "\n",
    "data = split_by_threshold(X_headlines, y, test_size=0.4,)\n",
    "(train_texts, y_train, test_texts, y_test) = data\n",
    "(X_train, X_test, vectorizer, k_best_selector) = ngram_vectorize(data,)\n",
    "data = (X_train, y_train, X_test, y_test)\n",
    "\n",
    "\n",
    "model = build_model(X_train.shape[1:], layers=2, units=3);\n",
    "model = train_model(data, model)\n",
    "evaluate(model, data)\n",
    "model = build_model(X_train.shape[1:], layers=3, units=5);\n",
    "model = train_model(data, model)\n",
    "evaluate(model, data)"
   ]
  },
  {
   "cell_type": "markdown",
   "metadata": {
    "deletable": false,
    "editable": false,
    "nbgrader": {
     "checksum": "8116753c79645e5b6e9f310a96adc5a7",
     "grade": false,
     "grade_id": "cell-08557321ae89e903",
     "locked": true,
     "schema_version": 1,
     "solution": false
    }
   },
   "source": [
    "### Answer 7 - Text"
   ]
  },
  {
   "cell_type": "markdown",
   "metadata": {
    "deletable": false,
    "nbgrader": {
     "checksum": "a07ce2cc44e5122eaf7f3ce2026ffd4f",
     "grade": true,
     "grade_id": "cell-940c3b0183e89cb2",
     "locked": false,
     "points": 1,
     "schema_version": 1,
     "solution": true
    }
   },
   "source": [
    "| Num. Layers/Num. Units| Train/Test split | Precision  | Recall | Accuracy |\n",
    "| --------- |:---------:| -----:| -----:| -----:|\n",
    "| 2/3 | 90/10 | 0.5175097276264592 | 1.0 | 0.5175097276264592 |\n",
    "| 3/5 | 90/10 | 0.4897959183673469 | 0.7218045112781954 | 0.4669260700389105 |\n",
    "| 2/3 | 60/40 | 0.5223735408560312 | 1.0 | 0.5223735408560312 |\n",
    "| 3/5 | 60/40 | 0.5256975036710719 | 0.6666666666666666 | 0.5116731517509727 |\n",
    "\n",
    "\n",
    "As the Train/Test split goes from 90/10 to 60/40 the precision improves and the recall drops. This is most likely because in the 90 Train/10 Test Splits, the model is being overfitted since the model performs much better in the training set compared to the test set. This means the model is built too closely to the training set and has picked up the nuances of the dataset which is most likely just noise. The 60/40 does a better job of generalising the model since it isn't giving the model too much data for the model to fit to. Although it is typically thought that you want to give as much Testing and Training data as possible there are a lot of trade-offs and 60/40 seems to work well.  \n",
    "\n",
    "With the 3/5 networks, the recall falls from 0.722 to 0.667 as the model is getting better classifying which is also seen in the precison and accuracy too. \n"
   ]
  },
  {
   "cell_type": "markdown",
   "metadata": {
    "deletable": false,
    "editable": false,
    "nbgrader": {
     "checksum": "94313898db78e5f939701a282521b223",
     "grade": false,
     "grade_id": "cell-e0e8f3ca9b702a7a",
     "locked": true,
     "schema_version": 1,
     "solution": false
    }
   },
   "source": [
    "### Question 8 (3 marks)\n",
    "Run a logistic regression with the same independent and dependent variables as used for the above neural network models. You have access to the `sklearn` package, which should help you answering this question. To work with the `sklearn` package, you may find the following links helpful.\n",
    "1. Building a logit model: https://scikit-learn.org/stable/modules/generated/sklearn.linear_model.LogisticRegression.html\n",
    "  \n",
    "  \n",
    "2. Evaluating a logit model: \n",
    "    - Recall: https://scikit-learn.org/stable/modules/generated/sklearn.metrics.recall_score.html\n",
    "    - Precision: https://scikit-learn.org/stable/modules/generated/sklearn.metrics.precision_score.html\n",
    "    - Accuracy: https://scikit-learn.org/stable/modules/generated/sklearn.metrics.accuracy_score.html\n",
    "    \n",
    "Compare and contrast your findings with the above findings based on neural network models."
   ]
  },
  {
   "cell_type": "markdown",
   "metadata": {
    "deletable": false,
    "editable": false,
    "nbgrader": {
     "checksum": "30ec1bc06f533b28d0e793478bcdf318",
     "grade": false,
     "grade_id": "cell-c8dcec9bd6416eb6",
     "locked": true,
     "schema_version": 1,
     "solution": false
    }
   },
   "source": [
    "### Answer 8 - Code"
   ]
  },
  {
   "cell_type": "code",
   "execution_count": 59,
   "metadata": {
    "deletable": false,
    "nbgrader": {
     "checksum": "d2cb3558ca4d6ff52186add573dd93a0",
     "grade": true,
     "grade_id": "cell-d6c261e8822ba347",
     "locked": false,
     "points": 2,
     "schema_version": 1,
     "solution": true
    }
   },
   "outputs": [
    {
     "name": "stdout",
     "output_type": "stream",
     "text": [
      "Precision is: 0.5227606461086637\n",
      "Recall is: 0.6629422718808193\n",
      "Accuracy is: 0.5077821011673151\n"
     ]
    }
   ],
   "source": [
    "from sklearn.linear_model import LogisticRegression\n",
    "from sklearn.metrics import recall_score\n",
    "from sklearn.metrics import precision_score\n",
    "from sklearn.metrics import accuracy_score\n",
    "\n",
    "df = pd.read_csv('Assignment4-data.csv')\n",
    "\n",
    "# Creates return_direction column \n",
    "df[\"returns_direction\"] = np.where(df[\"returns\"]>0, 1, 0)\n",
    "\n",
    "X_headlines = df.headlines.values\n",
    "y = df.returns_direction\n",
    "data = split_by_threshold(X_headlines, y, test_size=0.4,)\n",
    "(train_texts, y_train, test_texts, y_test) = data\n",
    "(X_train, X_test, vectorizer, k_best_selector) = ngram_vectorize(data,)\n",
    "data = (X_train, y_train, X_test, y_test)\n",
    "\n",
    "\n",
    "clf = LogisticRegression(random_state=0, solver='lbfgs', multi_class='multinomial').fit(X_train, y_train)\n",
    "y_prediction = clf.predict(X_test)\n",
    "\n",
    "recall = recall_score(y_test, y_prediction)\n",
    "precision = precision_score(y_test, y_prediction)\n",
    "accuracy = accuracy_score(y_test, y_prediction)\n",
    "\n",
    "print(\"Precision is: {}\".format(precision))\n",
    "print(\"Recall is: {}\".format(recall))\n",
    "print(\"Accuracy is: {}\".format(accuracy))\n"
   ]
  },
  {
   "cell_type": "markdown",
   "metadata": {
    "deletable": false,
    "editable": false,
    "nbgrader": {
     "checksum": "aa49d79d1dcad63f35aa2f6a1af2b467",
     "grade": false,
     "grade_id": "cell-0826e66e97970a3c",
     "locked": true,
     "schema_version": 1,
     "solution": false
    }
   },
   "source": [
    "### Answer 8 - Text"
   ]
  },
  {
   "cell_type": "markdown",
   "metadata": {
    "deletable": false,
    "nbgrader": {
     "checksum": "dee0f19205aa66e99fb562da206c306a",
     "grade": true,
     "grade_id": "cell-ecda2393f9a4bac3",
     "locked": false,
     "points": 1,
     "schema_version": 1,
     "solution": true
    }
   },
   "source": [
    "The Logistic Regression is a decent classifier. It is better than some of the lower order neural networks (1/2, 2/3) as they just classified True for all instances whereas the logistic regression is genuinely starting to understanding the dataset and makes classifications. The logistic regression is limited by the fact that it has a single sigmoid function so can not truly understand the complexities of the natural language like a multi-layer/unit neural network can. \n",
    "\n",
    "A pro of the Logistic regression is that it does not need to be trained the way that a neural network does so can output results much faster.\n",
    "\n",
    "Of the neural networks tested, the 3 layers/5 units with 60 training/40 testing performed the best because it was able to get the closest to understanding the complexity of the data and although it took longer than the Logistic Regression, it was able to perform slightly better so it is the preferred classifier to use.\n",
    "\n",
    "\n",
    "\n",
    "| Classifiers | Precision  | Recall | Accuracy |\n",
    "| --------- | -----:| -----:| -----:|\n",
    "| Best Neural Network Tested (3/5, 60/40) | 0.5256975036710719 | 0.6666666666666666 | 0.5116731517509727 |\n",
    "| Logistic Regression | 0.5227606461086637 | 0.6629422718808193 | 0.5077821011673151 |\n"
   ]
  },
  {
   "cell_type": "markdown",
   "metadata": {
    "deletable": false,
    "editable": false,
    "nbgrader": {
     "checksum": "0f72fa4595755fa6700fe9517f104ab9",
     "grade": false,
     "grade_id": "cell-693d8ece9b0c38e0",
     "locked": true,
     "schema_version": 1,
     "solution": false
    }
   },
   "source": [
    "### Question 9 (5 marks)\n",
    "Everything you did so far was explaining stock returns with contemporaneous financial news that were released on the same date. To explore how well a neural network can **predict** the direction of **future** returns based on our text data, you should do the following.\n",
    "1. Please read the `AAPL_returns.csv` into a dataframe by using the `parse_dates` argument and create a new column  `returns_pred` by shifting the returns by one **trading** day. For this purpose, you may find the `shift` function from `Pandas` helpful.\n",
    "  \n",
    "  \n",
    "2. Combine the `df` dataframe that contains headlines with this new dataframe such that for a given headline date, the value in `returns_pred` contains the return on the **subsequent** trading day.\n",
    "  \n",
    "  \n",
    "3. Train a neural network that uses financial news to learn the `returns_pred` variable. You are allowed to use any of the above neural network parameterisations and train/test data splits.\n",
    "  \n",
    "  \n",
    "4. Explain your findings with regard to the given data and your chosen parameters. Interpret your results in the context of the Efficient Market Hypothesis (EMH)."
   ]
  },
  {
   "cell_type": "markdown",
   "metadata": {
    "deletable": false,
    "editable": false,
    "nbgrader": {
     "checksum": "5ff4792a4f889a4c60692cbe016d7969",
     "grade": false,
     "grade_id": "cell-0edf71034ed5dcaf",
     "locked": true,
     "schema_version": 1,
     "solution": false
    }
   },
   "source": [
    "### Answer 9 - Code"
   ]
  },
  {
   "cell_type": "code",
   "execution_count": 55,
   "metadata": {
    "deletable": false,
    "nbgrader": {
     "checksum": "0ea0ac43f6e14f3acc1e6cb9cf5e4726",
     "grade": true,
     "grade_id": "cell-08818ac96ab94352",
     "locked": false,
     "points": 3,
     "schema_version": 1,
     "solution": true
    }
   },
   "outputs": [
    {
     "name": "stdout",
     "output_type": "stream",
     "text": [
      "Train on 1542 samples, validate on 1028 samples\n",
      "Epoch 1/1000\n",
      "1542/1542 - 1s - loss: 0.6932 - acc: 0.4728 - val_loss: 0.6931 - val_acc: 0.5340\n",
      "Epoch 2/1000\n",
      "1542/1542 - 1s - loss: 0.6929 - acc: 0.6278 - val_loss: 0.6931 - val_acc: 0.5321\n",
      "Epoch 3/1000\n",
      "1542/1542 - 1s - loss: 0.6924 - acc: 0.7393 - val_loss: 0.6931 - val_acc: 0.5272\n",
      "Epoch 4/1000\n",
      "1542/1542 - 1s - loss: 0.6919 - acc: 0.8003 - val_loss: 0.6931 - val_acc: 0.5282\n",
      "Training Completed\n",
      "########################################\n",
      "############## Test Set: ###############\n",
      "########################################\n",
      "Precision:  0.534850640113798\n",
      "Recall:  0.704119850187266\n",
      "Accuracy Score:  0.5282101167315175\n",
      "\n",
      "########################################\n",
      "############## Train Set: ##############\n",
      "########################################\n",
      "Precision:  0.7848360655737705\n",
      "Recall:  0.942189421894219\n",
      "Accuracy Score:  0.8333333333333334\n"
     ]
    }
   ],
   "source": [
    "df1 = pd.read_csv('AAPL_returns.csv', parse_dates=['date']) \n",
    "\n",
    "df1['returns_pred'] = df1['RET'].shift(-1, fill_value=0)\n",
    "\n",
    "\n",
    "\n",
    "df2 = pd.read_csv('Assignment4-data.csv', parse_dates=['date']) \n",
    "\n",
    "df = pd.merge(df1, df2, on='date')\n",
    "\n",
    "# Creates return_direction column \n",
    "df[\"returns_direction\"] = np.where(df[\"returns_pred\"]>0, 1, 0)\n",
    "\n",
    "\n",
    "\n",
    "X_headlines = df.headlines.values\n",
    "y = df.returns_direction\n",
    "data = split_by_threshold(X_headlines, y, test_size=0.4,)\n",
    "(train_texts, y_train, test_texts, y_test) = data\n",
    "(X_train, X_test, vectorizer, k_best_selector) = ngram_vectorize(data,)\n",
    "data = (X_train, y_train, X_test, y_test)\n",
    "\n",
    "\n",
    "model = build_model(X_train.shape[1:], layers=3, units=5);\n",
    "model = train_model(data, model)\n",
    "evaluate(model, data)\n",
    "\n"
   ]
  },
  {
   "cell_type": "markdown",
   "metadata": {
    "deletable": false,
    "editable": false,
    "nbgrader": {
     "checksum": "f1798458af3e9329943c51de247def22",
     "grade": false,
     "grade_id": "cell-3f3937ac783d676d",
     "locked": true,
     "schema_version": 1,
     "solution": false
    }
   },
   "source": [
    "### Answer 9 - Text"
   ]
  },
  {
   "cell_type": "markdown",
   "metadata": {
    "deletable": false,
    "nbgrader": {
     "checksum": "d98871bd7611022966b57985cf681cf7",
     "grade": true,
     "grade_id": "cell-af1b55d69e9c64e7",
     "locked": false,
     "points": 2,
     "schema_version": 1,
     "solution": true
    }
   },
   "source": [
    "The Classifier I decided to use was the neural network with 3 Layers and 5 Units. This is because of all the classifiers tested, that performed the best.\n",
    "\n",
    "Interestingly the Classifier is better at predicting the next day return direction compared to the current day direction for apple stocks. This may be because some headlines may be released after the market closes so are not incorporated into the price of the current day. \n",
    "\n",
    "\n",
    "(Assuming that headlines encapsulate all public data)\n",
    "Overall, our classifier disproves the efficient market hypothesis since the public information (headlines) is not being factored into the price on the day it happened. The model could not accurately predict the direction of the apple shares even though it had the headlines and processed the language. If the efficient market hypothesis were true the would react the moment the headline hit and we would be able to predict the price changes (which is not the case). This is an invalid assumption since there is more public data that may not make it to a headline but is necessary to answer the question.\n",
    "\n",
    "\n",
    "\n",
    "\n",
    "\n",
    "| Returns Date | Precision  | Recall | Accuracy |\n",
    "| --------- | -----:| -----:| -----:|\n",
    "| Same Day | 0.5256975036710719 | 0.6666666666666666 | 0.5116731517509727 |\n",
    "| Next Day | 0.534850640113798 | 0.704119850187266 | 0.5282101167315175 |"
   ]
  },
  {
   "cell_type": "code",
   "execution_count": null,
   "metadata": {},
   "outputs": [],
   "source": []
  }
 ],
 "metadata": {
  "kernelspec": {
   "display_name": "Python 3",
   "language": "python",
   "name": "python3"
  },
  "language_info": {
   "codemirror_mode": {
    "name": "ipython",
    "version": 3
   },
   "file_extension": ".py",
   "mimetype": "text/x-python",
   "name": "python",
   "nbconvert_exporter": "python",
   "pygments_lexer": "ipython3",
   "version": "3.7.3"
  }
 },
 "nbformat": 4,
 "nbformat_minor": 2
}
